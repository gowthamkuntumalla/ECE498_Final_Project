{
 "cells": [
  {
   "cell_type": "code",
   "execution_count": 1,
   "metadata": {},
   "outputs": [],
   "source": [
    "import numpy as np\n",
    "import pandas as pd\n",
    "import math as mth\n",
    "from sklearn.linear_model import LinearRegression\n",
    "import matplotlib.pyplot as plt\n",
    "import time"
   ]
  },
  {
   "cell_type": "code",
   "execution_count": 2,
   "metadata": {},
   "outputs": [],
   "source": [
    "sandp500 = pd.read_csv ('sandp500/all_stocks_5yr.csv')\n",
    "sandp500['date'] = pd.to_datetime(sandp500['date'])\n",
    "\n",
    "#Study only a particular company right now\n",
    "company = pd.read_csv('sandp500/individual_stocks_5yr/AAPL_data.csv')\n",
    "company['date'] = pd.to_datetime(company['date'])"
   ]
  },
  {
   "cell_type": "code",
   "execution_count": 3,
   "metadata": {},
   "outputs": [],
   "source": [
    "#Function that returns specific time-range stockvalues for a particular company\n",
    "def period(df, initial, final):\n",
    "    df = df.set_index(['date'])\n",
    "    return df.loc[initial:final].reset_index()"
   ]
  },
  {
   "cell_type": "markdown",
   "metadata": {},
   "source": [
    "# (1) AD Analysis"
   ]
  },
  {
   "cell_type": "code",
   "execution_count": 4,
   "metadata": {
    "scrolled": false
   },
   "outputs": [],
   "source": [
    "# https://www.investopedia.com/terms/a/accumulationdistribution.asp\n",
    "# A/D=Previous A/D+CMFV where CMFV = ((c - l) - (h - c))/(h - l)\n",
    "\n",
    "def AD (p):\n",
    " \n",
    "    for x in all_companies:\n",
    "        temp = sp500.loc[x]\n",
    "        c = np.empty((p-1,))\n",
    "        c[:] = np.NaN\n",
    "        c = list(c)\n",
    "        c.extend(temp['close'].iloc[p-1:])\n",
    "   \n",
    "        v = temp['volume'].rolling(window = p).sum()\n",
    "        h = temp['high'].rolling(window = p).max()\n",
    "        l = temp['low'].rolling(window = p).min()\n",
    "        \n",
    "        AD = v * (((c - l) - (h - c))/(h - l))\n",
    "        output = AD.cumsum()\n",
    "        sp500.loc[x,'Accum_Distri'] = pd.DataFrame(output)\n",
    "\n",
    "#p = 14: Time period (in days)\n",
    "#     initial = company['date'][0]\n",
    "#     final = initial + pd.Timedelta(p, unit='d')\n",
    "#     itr = 1 # To start the process for the 1st iteration\n",
    "#     output = []\n",
    "#     last_elem = company['date'].iloc[-1]\n",
    "\n",
    "#     while final <= last_elem:\n",
    "#         temp = period(company, initial, final) #A pandas frame with only the stocks in the particular time range\n",
    "    \n",
    "        \n",
    "#         if itr == 1:\n",
    "#             v = temp['volume'].sum()\n",
    "#             c = temp['close'][len(temp)-1]\n",
    "#             h = temp['high'].max()\n",
    "#             l = temp['low'].min()\n",
    "#             AD = v * (((c - l) - (h - c))/(h - l))\n",
    "#         else:\n",
    "#             v = temp['volume'].sum()\n",
    "#             AD += v * (((c - l) - (h - c))/(h - l))\n",
    "#             c = temp['close'][len(temp)-1]\n",
    "#             h = temp['high'].max()\n",
    "#             l = temp['low'].min()\n",
    "#             output.append(AD)\n",
    "\n",
    "#         initial += pd.Timedelta(1, unit='d')\n",
    "#         final += pd.Timedelta(1, unit='d')\n",
    "#         itr = 0"
   ]
  },
  {
   "cell_type": "markdown",
   "metadata": {},
   "source": [
    "# (2) GOPALAKRISHNAN RANGE INDEX (GAPO Index)"
   ]
  },
  {
   "cell_type": "code",
   "execution_count": 5,
   "metadata": {},
   "outputs": [],
   "source": [
    "# Standard code for working on specific time-range stockvalues for a particular company\n",
    "def GAPO (p):\n",
    "#     initial = company['date'][0]\n",
    "#     final = initial + pd.Timedelta(p, unit='d')\n",
    "#     output = []\n",
    "#     last_elem = company['date'].iloc[-1]\n",
    "\n",
    "#     while final <= last_elem:\n",
    "#         temp = period(company, initial, final) #A pandas frame with only the stocks in the particular time range\n",
    "#   initial += pd.Timedelta(1, unit='d')\n",
    "#         final += pd.Timedelta(1, unit='d')\n",
    "        \n",
    "    for x in all_companies:\n",
    "        temp = sp500.loc[x]\n",
    "        \n",
    "        hh = temp['high'].rolling(window = p).max()\n",
    "        ll = temp['low'].rolling(window = p).min()\n",
    "        \n",
    "        GAPO = np.log(hh-ll)/np.log(p)\n",
    "        sp500.loc[x,'GAPO'] = pd.DataFrame(GAPO)"
   ]
  },
  {
   "cell_type": "markdown",
   "metadata": {},
   "source": [
    "# (3) LINEAR REGRESSION FORECAST (LRF)"
   ]
  },
  {
   "cell_type": "code",
   "execution_count": 6,
   "metadata": {},
   "outputs": [],
   "source": [
    "# Standard code for working on specific time-range stockvalues for a particular company\n",
    "def LRF (company, p):\n",
    "    initial = company['date'][0]\n",
    "    final = initial + pd.Timedelta(p, unit='d')\n",
    "    output = [[],[],[]]\n",
    "    last_elem = company['date'].iloc[-1]\n",
    "\n",
    "    while final <= last_elem:\n",
    "        temp = period(company, initial, final) #A pandas frame with only the stocks in the particular time range\n",
    "        \n",
    "        temp['average'] = temp.apply(lambda row: (row.high + row.low)/2. , axis = 1)         \n",
    "        x = np.array(temp.apply(lambda row: row.date.value/10**9/86400, axis = 1))\n",
    "        output[0].extend(x)\n",
    "        output[1].extend(temp['average'])\n",
    "        \n",
    "        answer = LinearRegression().fit(x.reshape(-1, 1), np.array(temp['average']).reshape(-1, 1),)\n",
    "        output[2].extend(answer.coef_[0][0]*x + answer.intercept_[0])       \n",
    "\n",
    "        initial = final + pd.Timedelta(1, unit='d')\n",
    "        final = initial + pd.Timedelta(p, unit='d')\n",
    "\n",
    "    return output"
   ]
  },
  {
   "cell_type": "markdown",
   "metadata": {},
   "source": [
    "# (4) On Balance Volume (OBV)"
   ]
  },
  {
   "cell_type": "code",
   "execution_count": 7,
   "metadata": {},
   "outputs": [],
   "source": [
    "# Standard code for working on specific time-range stockvalues for a particular company\n",
    "def OBV (p):\n",
    "#     initial = company['date'][0]\n",
    "#     final = initial + pd.Timedelta(p, unit='d')\n",
    "#     output = []\n",
    "#     itr=1\n",
    "  \n",
    "#     last_elem = company['date'].iloc[-1]\n",
    "\n",
    "#     while final <= last_elem:\n",
    "#         temp = period(company, initial, final) #A pandas frame with only the stocks in the particular time range\n",
    "    for x in all_companies:   \n",
    "        temp = sp500.loc[x]\n",
    "        v = temp['volume'].rolling(window = p).sum()\n",
    "        c = np.empty((p-1,))\n",
    "        c[:] = np.NaN\n",
    "        c = list(c)\n",
    "        c.extend(temp['close'].iloc[p-1:])\n",
    "        \n",
    "        for i in range(p, len(c)):\n",
    "            if c[i] < c[i-1]:\n",
    "                v[i] = - v[i]\n",
    "            if c[i] == c[i-1]:\n",
    "                v[i] = 0\n",
    "            \n",
    "        obv = np.cumsum(v)\n",
    "        sp500.loc[x,'On_Bal_Vol'] = pd.DataFrame(obv)\n",
    "#         else:\n",
    "#             if temp['close'][len(temp)-1] > c:\n",
    "#                 obv += v\n",
    "#             elif temp['close'][len(temp)-1] < c:\n",
    "#                 obv -= v\n",
    "#             else:\n",
    "#                 obv = obv\n",
    "                \n",
    "#         output.append(obv)\n",
    "\n",
    "#         initial += pd.Timedelta(1, unit='d')\n",
    "#         final += pd.Timedelta(1, unit='d')\n",
    "        \n",
    "#         c = temp['close'][len(temp)-1]\n",
    "#         itr = 0"
   ]
  },
  {
   "cell_type": "markdown",
   "metadata": {},
   "source": [
    "# (5) Relative Strength Index (RSI)"
   ]
  },
  {
   "cell_type": "code",
   "execution_count": 8,
   "metadata": {},
   "outputs": [],
   "source": [
    "# Standard code for working on specific time-range stockvalues for a particular company\n",
    "def RSI (p):\n",
    "    for x in all_companies:\n",
    "        temp = sp500.loc[x]\n",
    "        \n",
    "        difference = temp['close'].diff()\n",
    "        up, down = difference.copy(), difference.copy()\n",
    "        up [up < 0] = 0\n",
    "        down [down > 0] = 0\n",
    "        rs = up.rolling(window = p).mean() / down.abs().rolling(window = p).mean()\n",
    "        rsi = 100.0 - (100.0 / (1.0 + rs))\n",
    "        sp500.loc[x,'RSI'] = pd.DataFrame(rsi)\n",
    "    \n",
    "#     initial = company['date'][0]\n",
    "#     final = initial + pd.Timedelta(p, unit='d')\n",
    "#     output = []\n",
    "#     itr = 1\n",
    "#     rsi = 0\n",
    "#     loss = []\n",
    "#     profit = []\n",
    "#     last_elem = company['date'].iloc[-1]\n",
    "\n",
    "#     while final <= last_elem:\n",
    "#         temp = period(company, initial, final) #A pandas frame with only the stocks in the particular time range\n",
    "        \n",
    "#         for row in range(1, len(temp)):\n",
    "#             if temp['close'][row] < temp['close'][row-1]:\n",
    "#                 loss.append(100*(temp['close'][row-1] - temp['close'][row])/temp['close'][row-1])\n",
    "#             else:\n",
    "#                 profit.append(100*(temp['close'][row] - temp['close'][row-1])/temp['close'][row-1])\n",
    "        \n",
    "#         if loss == []:\n",
    "#             loss = [0]\n",
    "#         if profit == []:\n",
    "#             profit = [0]\n",
    "            \n",
    "#         loss = np.mean(loss)/p\n",
    "#         profit = np.mean(profit)/p\n",
    "        \n",
    "#         if itr == 1:\n",
    "#             rsi = 100 - (100 / (1+profit/loss) )\n",
    "#         else:\n",
    "#             rsi = 100 - (100 / (1 + ((prev_profit)*(p-1) + profit)/((prev_loss)*(p-1) + loss)))\n",
    "            \n",
    "#         output.append(rsi)\n",
    "\n",
    "#         initial += pd.Timedelta(1, unit='d')\n",
    "#         final += pd.Timedelta(1, unit='d')\n",
    "#         itr = 0\n",
    "#         prev_loss = loss\n",
    "#         loss = []\n",
    "#         prev_profit = profit\n",
    "#         profit = []\n",
    "\n",
    "#     return output"
   ]
  },
  {
   "cell_type": "markdown",
   "metadata": {},
   "source": [
    "# (6) Weighted Close (WC)"
   ]
  },
  {
   "cell_type": "code",
   "execution_count": 9,
   "metadata": {},
   "outputs": [],
   "source": [
    "# Note there is no time granularity for WC analysis\n",
    "def WC(p):        \n",
    "    for x in all_companies:\n",
    "        temp = sp500.loc[x]\n",
    "        output = (temp['high'] + temp['low'] + 2*temp['close'])/4\n",
    "        sp500.loc[x,'Weighted_Close'] = pd.DataFrame(output)"
   ]
  },
  {
   "cell_type": "markdown",
   "metadata": {},
   "source": [
    "# (7) Williams %R Formula (WRF)"
   ]
  },
  {
   "cell_type": "code",
   "execution_count": 10,
   "metadata": {},
   "outputs": [],
   "source": [
    "def WRF (p):\n",
    "#     initial = company['date'][0]\n",
    "#     final = initial + pd.Timedelta(p, unit='d')\n",
    "#     output = []\n",
    "#     last_elem = company['date'].iloc[-1]\n",
    "#     while final <= last_elem:\n",
    "#         temp = period(company, initial, final) #A pandas frame with only the stocks in the particular time range\n",
    "#         initial += pd.Timedelta(1, unit='d')\n",
    "#         final += pd.Timedelta(1, unit='d')\n",
    "\n",
    "    for x in all_companies:\n",
    "        temp = sp500.loc[x]\n",
    "\n",
    "        hh = temp['high'].rolling(window = p).max()\n",
    "        ll = temp['low'].rolling(window = p).min()\n",
    "        close = np.empty((p-1,))\n",
    "        close[:] = np.NaN\n",
    "        close = list(close)\n",
    "        close.extend(temp['close'].iloc[p-1:])\n",
    "        \n",
    "        WR = (hh-close)/(hh-ll)*(-100)\n",
    "        sp500.loc[x,'Will_R_Form'] = pd.DataFrame(WR)"
   ]
  },
  {
   "cell_type": "markdown",
   "metadata": {},
   "source": [
    "# (8) Aaron Oscillator (AO)"
   ]
  },
  {
   "cell_type": "code",
   "execution_count": 11,
   "metadata": {},
   "outputs": [],
   "source": [
    "def AO (p):\n",
    "    for x in all_companies:\n",
    "        stocks = sp500.loc[x]\n",
    "        output = np.empty((p-1,))\n",
    "        output[:] = np.NaN\n",
    "        output = list(output)\n",
    "        first_run = True\n",
    "        ctr1 = 0\n",
    "        ctr2 = 0\n",
    "        hh = 0\n",
    "        ll = 0\n",
    "        itr = p\n",
    "\n",
    "        while itr <= len(stocks): \n",
    "            temp = stocks.iloc[itr - p: itr]\n",
    "            if first_run or ctr1 == 25:\n",
    "                hh = temp['high'].max()\n",
    "                ctr1 = p - temp['high'].values.argmax() - 2\n",
    "\n",
    "            if first_run or ctr2 == 25:\n",
    "                ll = temp['low'].min()\n",
    "                ctr2 = p - temp['low'].values.argmin() - 2\n",
    "                \n",
    "            if temp['high'].iloc[-1] >= hh:\n",
    "                ctr1 = 0\n",
    "                hh = temp['high'].iloc[-1]\n",
    "            else: \n",
    "                ctr1 += 1\n",
    "\n",
    "            if temp['low'].iloc[-1] <= ll:\n",
    "                ctr2 = 0\n",
    "                ll = temp['low'].iloc[-1]\n",
    "            else: \n",
    "                ctr2 += 1\n",
    "            \n",
    "            a_up = 100*(p-ctr1)/p\n",
    "            a_down = 100*(p-ctr2)/p\n",
    "            a_osc = a_up - a_down   \n",
    "            output.append(a_osc)\n",
    "            itr += 1\n",
    "            first_run = False\n",
    "        \n",
    "        sp500.loc[x,'Aaron_Osc'] = pd.DataFrame(output)"
   ]
  },
  {
   "cell_type": "markdown",
   "metadata": {},
   "source": [
    "# (9) Donchian Width"
   ]
  },
  {
   "cell_type": "code",
   "execution_count": 12,
   "metadata": {},
   "outputs": [],
   "source": [
    "def DW (p):    \n",
    "    for x in all_companies:\n",
    "        temp = sp500.loc[x]\n",
    "\n",
    "        hh = temp['high'].rolling(window = p).max()\n",
    "        ll = temp['low'].rolling(window = p).min()\n",
    "\n",
    "        DW = hh - ll\n",
    "        sp500.loc[x,'Donchian_Width'] = pd.DataFrame(DW)"
   ]
  },
  {
   "cell_type": "markdown",
   "metadata": {},
   "source": [
    "# (10) True Range"
   ]
  },
  {
   "cell_type": "code",
   "execution_count": 13,
   "metadata": {},
   "outputs": [],
   "source": [
    "def TR (p):    \n",
    "    for x in all_companies:\n",
    "        temp = sp500.loc[x]\n",
    "        TR = temp['high'] - temp['low']\n",
    "        \n",
    "        sp500.loc[x,'True_Range'] = pd.DataFrame(TR)"
   ]
  },
  {
   "cell_type": "markdown",
   "metadata": {},
   "source": [
    "# \"MAIN FUNCTION\""
   ]
  },
  {
   "cell_type": "code",
   "execution_count": 14,
   "metadata": {
    "scrolled": false
   },
   "outputs": [
    {
     "name": "stdout",
     "output_type": "stream",
     "text": [
      "<function AD at 0x10a7db200> Done!\n",
      "Execution time: 3.4237237200000017 seconds\n",
      "\n",
      "<function WRF at 0x10a7dbe60> Done!\n",
      "Execution time: 3.3817877979999977 seconds\n",
      "\n",
      "<function WC at 0x10c342a70> Done!\n",
      "Execution time: 2.577587948999998 seconds\n",
      "\n",
      "<function GAPO at 0x10a7dbc20> Done!\n",
      "Execution time: 2.8069093180000024 seconds\n",
      "\n",
      "<function OBV at 0x10a7ceb00> Done!\n",
      "Execution time: 16.335508621000002 seconds\n",
      "\n",
      "<function RSI at 0x10a7ce830> Done!\n",
      "Execution time: 3.7014944499999984 seconds\n",
      "\n",
      "<function DW at 0x10a7ced40> Done!\n",
      "Execution time: 2.8943395490000015 seconds\n",
      "\n",
      "<function TR at 0x1a1f890200> Done!\n",
      "Execution time: 2.1935507629999975 seconds\n",
      "\n",
      "<function AO at 0x10a7cea70> Done!\n",
      "Execution time: 149.073489368 seconds\n",
      "\n"
     ]
    }
   ],
   "source": [
    "sp500 = sandp500.copy()\n",
    "sp500.set_index(['Name','date'], inplace=True)\n",
    "all_companies = sp500.index.get_level_values(0).unique() # gets the name of all companies\n",
    "\n",
    "p = 14 # Time period in days\n",
    "\n",
    "all_features = [AD,WRF,WC,GAPO,OBV,RSI,DW,TR,AO]\n",
    "\n",
    "for feature in all_features:\n",
    "    tic = time.perf_counter()\n",
    "    if feature == AO:\n",
    "        AO(25)\n",
    "    else:\n",
    "        feature(p)\n",
    "    \n",
    "    toc = time.perf_counter()\n",
    "    print(\"{0} Done!\".format(str(feature)))\n",
    "    print(\"Execution time: {0} seconds\\n\".format(toc - tic))"
   ]
  },
  {
   "cell_type": "code",
   "execution_count": null,
   "metadata": {},
   "outputs": [],
   "source": [
    "sp500.to_csv('Akhilesh_Feature_Generation.csv')"
   ]
  },
  {
   "cell_type": "code",
   "execution_count": null,
   "metadata": {
    "scrolled": true
   },
   "outputs": [],
   "source": [
    "sp500.tail(5)"
   ]
  },
  {
   "cell_type": "code",
   "execution_count": null,
   "metadata": {},
   "outputs": [],
   "source": [
    "sp500.describe()"
   ]
  },
  {
   "cell_type": "code",
   "execution_count": null,
   "metadata": {
    "scrolled": true
   },
   "outputs": [],
   "source": [
    "plt.subplots(figsize = (10,5))\n",
    "p = 14\n",
    "output = LRF(company, p)\n",
    "plt.plot(output[0], output[1], label='High-Low Average')\n",
    "plt.plot(output[0], output[2], label='Linear Regression Fit')\n",
    "plt.xlabel('Time in Days', size = 20)\n",
    "plt.ylabel('Price (in USD)', size = 20)\n",
    "plt.title('Stocks for {0}'.format(company['Name'].iloc[0]), size =30)\n",
    "plt.legend()\n",
    "plt.show()"
   ]
  },
  {
   "cell_type": "code",
   "execution_count": null,
   "metadata": {},
   "outputs": [],
   "source": []
  }
 ],
 "metadata": {
  "kernelspec": {
   "display_name": "Python 3",
   "language": "python",
   "name": "python3"
  },
  "language_info": {
   "codemirror_mode": {
    "name": "ipython",
    "version": 3
   },
   "file_extension": ".py",
   "mimetype": "text/x-python",
   "name": "python",
   "nbconvert_exporter": "python",
   "pygments_lexer": "ipython3",
   "version": "3.7.4"
  }
 },
 "nbformat": 4,
 "nbformat_minor": 2
}
