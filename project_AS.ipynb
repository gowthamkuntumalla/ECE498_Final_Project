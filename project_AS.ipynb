{
 "cells": [
  {
   "cell_type": "code",
   "execution_count": 22,
   "metadata": {},
   "outputs": [],
   "source": [
    "import numpy as np\n",
    "import pandas as pd\n",
    "import math as mth\n",
    "from sklearn.linear_model import LinearRegression\n",
    "import matplotlib.pyplot as plt"
   ]
  },
  {
   "cell_type": "code",
   "execution_count": 23,
   "metadata": {},
   "outputs": [],
   "source": [
    "# sandp500 = pd.read_csv ('sandp500/all_stocks_5yr.csv')\n",
    "# sandp500['date'] = pd.to_datetime(sandp500['date'])\n",
    "\n",
    "company = pd.read_csv('sandp500/individual_stocks_5yr/individual_stocks_5yr/AAPL_data.csv')\n",
    "company['date'] = pd.to_datetime(company['date'])"
   ]
  },
  {
   "cell_type": "code",
   "execution_count": 24,
   "metadata": {},
   "outputs": [],
   "source": [
    "#Function that returns specific time-range stockvalues for a particular company\n",
    "def period(df, initial, final):\n",
    "    df = df.set_index(['date'])\n",
    "    return df.loc[initial:final].reset_index()"
   ]
  },
  {
   "cell_type": "markdown",
   "metadata": {},
   "source": [
    "# (1) AD Analysis"
   ]
  },
  {
   "cell_type": "code",
   "execution_count": 25,
   "metadata": {
    "scrolled": false
   },
   "outputs": [],
   "source": [
    "# Standard code for working on specific time-range stockvalues for a particular company\n",
    "def AD (company, p):\n",
    "    #p = 14: Time period (in days)\n",
    "    initial = company['date'][0]\n",
    "    final = initial + pd.Timedelta(p, unit='d')\n",
    "    itr = 1 # To start the process for the 1st iteration\n",
    "    output = []\n",
    "    last_elem = company['date'].iloc[-1]\n",
    "\n",
    "    while final <= last_elem:\n",
    "        temp = period(company, initial, final) #A pandas frame with only the stocks in the particular time range\n",
    "\n",
    "        '''\n",
    "        Do all the analysis here with temp\n",
    "        '''\n",
    "        if itr == 1:\n",
    "            v = temp['volume'].sum()\n",
    "            c = temp['close'][len(temp)-1]\n",
    "            h = temp['high'].max()\n",
    "            l = temp['low'].min()\n",
    "            AD = v * (((c - l) - (h - c))/(h - l))\n",
    "        else:\n",
    "            v = temp['volume'].sum()\n",
    "            AD += v * (((c - l) - (h - c))/(h - l))\n",
    "            c = temp['close'][len(temp)-1]\n",
    "            h = temp['high'].max()\n",
    "            l = temp['low'].min()\n",
    "            output.append(AD)\n",
    "\n",
    "        initial += pd.Timedelta(1, unit='d')\n",
    "        final += pd.Timedelta(1, unit='d')\n",
    "        itr = 0\n",
    "\n",
    "    return output"
   ]
  },
  {
   "cell_type": "markdown",
   "metadata": {},
   "source": [
    "# (2) GOPALAKRISHNAN RANGE INDEX (GAPO Index)"
   ]
  },
  {
   "cell_type": "code",
   "execution_count": 26,
   "metadata": {},
   "outputs": [],
   "source": [
    "# Standard code for working on specific time-range stockvalues for a particular company\n",
    "def GAPO (company, p):\n",
    "    initial = company['date'][0]\n",
    "    final = initial + pd.Timedelta(p, unit='d')\n",
    "    output = []\n",
    "    last_elem = company['date'].iloc[-1]\n",
    "\n",
    "    while final <= last_elem:\n",
    "        temp = period(company, initial, final) #A pandas frame with only the stocks in the particular time range\n",
    "        hh = temp['high'].max()\n",
    "        ll = temp['low'].min()\n",
    "        GAPO = np.log(hh-ll)/np.log(p)\n",
    "        output.append(GAPO)\n",
    "\n",
    "        initial += pd.Timedelta(1, unit='d')\n",
    "        final += pd.Timedelta(1, unit='d')\n",
    "\n",
    "    return output"
   ]
  },
  {
   "cell_type": "markdown",
   "metadata": {},
   "source": [
    "# (3) LINEAR REGRESSION FORECAST (LRF)"
   ]
  },
  {
   "cell_type": "code",
   "execution_count": 27,
   "metadata": {},
   "outputs": [],
   "source": [
    "# Standard code for working on specific time-range stockvalues for a particular company\n",
    "def LRF (company, p):\n",
    "    initial = company['date'][0]\n",
    "    final = initial + pd.Timedelta(p, unit='d')\n",
    "    output = [[],[],[]]\n",
    "    last_elem = company['date'].iloc[-1]\n",
    "\n",
    "    while final <= last_elem:\n",
    "        temp = period(company, initial, final) #A pandas frame with only the stocks in the particular time range\n",
    "        \n",
    "        temp['average'] = temp.apply(lambda row: (row.high + row.low)/2. , axis = 1)         \n",
    "        x = np.array(temp.apply(lambda row: row.date.value/10**9/86400, axis = 1))\n",
    "        output[0].extend(x)\n",
    "        output[1].extend(temp['average'])\n",
    "        \n",
    "        answer = LinearRegression().fit(x.reshape(-1, 1), np.array(temp['average']).reshape(-1, 1),)\n",
    "        output[2].extend(answer.coef_[0][0]*x + answer.intercept_[0])       \n",
    "\n",
    "        initial = final + pd.Timedelta(1, unit='d')\n",
    "        final = initial + pd.Timedelta(p, unit='d')\n",
    "\n",
    "    return output"
   ]
  },
  {
   "cell_type": "markdown",
   "metadata": {},
   "source": [
    "# (4) On Balance Volume (OBV)"
   ]
  },
  {
   "cell_type": "code",
   "execution_count": 28,
   "metadata": {},
   "outputs": [],
   "source": [
    "# Standard code for working on specific time-range stockvalues for a particular company\n",
    "def OBV (company, p):\n",
    "    initial = company['date'][0]\n",
    "    final = initial + pd.Timedelta(p, unit='d')\n",
    "    output = []\n",
    "    itr=1\n",
    "    obv = 0\n",
    "    last_elem = company['date'].iloc[-1]\n",
    "\n",
    "    while final <= last_elem:\n",
    "        temp = period(company, initial, final) #A pandas frame with only the stocks in the particular time range\n",
    "        v = temp['volume'].sum()\n",
    "        \n",
    "        if itr==1:\n",
    "            c = temp['close'][len(temp)-1]\n",
    "            obv = v\n",
    "        \n",
    "        else:\n",
    "            if temp['close'][len(temp)-1] > c:\n",
    "                obv += v\n",
    "            elif temp['close'][len(temp)-1] < c:\n",
    "                obv -= v\n",
    "            else:\n",
    "                obv = obv\n",
    "                \n",
    "        output.append(obv)\n",
    "\n",
    "        initial += pd.Timedelta(1, unit='d')\n",
    "        final += pd.Timedelta(1, unit='d')\n",
    "        \n",
    "        c = temp['close'][len(temp)-1]\n",
    "        itr = 0\n",
    "\n",
    "    return output"
   ]
  },
  {
   "cell_type": "markdown",
   "metadata": {},
   "source": [
    "# (5) Relative Strength Index (RSI)"
   ]
  },
  {
   "cell_type": "code",
   "execution_count": 29,
   "metadata": {},
   "outputs": [],
   "source": [
    "# Standard code for working on specific time-range stockvalues for a particular company\n",
    "def RSI (company, p):\n",
    "    initial = company['date'][0]\n",
    "    final = initial + pd.Timedelta(p, unit='d')\n",
    "    output = []\n",
    "    itr = 1\n",
    "    rsi = 0\n",
    "    loss = []\n",
    "    profit = []\n",
    "    last_elem = company['date'].iloc[-1]\n",
    "\n",
    "    while final <= last_elem:\n",
    "        temp = period(company, initial, final) #A pandas frame with only the stocks in the particular time range\n",
    "        \n",
    "        for row in range(1, len(temp)):\n",
    "            if temp['close'][row] < temp['close'][row-1]:\n",
    "                loss.append(100*(temp['close'][row-1] - temp['close'][row])/temp['close'][row-1])\n",
    "            else:\n",
    "                profit.append(100*(temp['close'][row] - temp['close'][row-1])/temp['close'][row-1])\n",
    "        \n",
    "        if loss == []:\n",
    "            loss = [0]\n",
    "        if profit == []:\n",
    "            profit = [0]\n",
    "            \n",
    "        loss = np.mean(loss)/p\n",
    "        profit = np.mean(profit)/p\n",
    "        \n",
    "        if itr == 1:\n",
    "            rsi = 100 - (100 / (1+profit/loss) )\n",
    "        else:\n",
    "            rsi = 100 - (100 / (1 + ((prev_profit)*(p-1) + profit)/((prev_loss)*(p-1) + loss)))\n",
    "            \n",
    "        output.append(rsi)\n",
    "\n",
    "        initial += pd.Timedelta(1, unit='d')\n",
    "        final += pd.Timedelta(1, unit='d')\n",
    "        itr = 0\n",
    "        prev_loss = loss\n",
    "        loss = []\n",
    "        prev_profit = profit\n",
    "        profit = []\n",
    "\n",
    "    return output"
   ]
  },
  {
   "cell_type": "markdown",
   "metadata": {},
   "source": [
    "# (6) Weighted Close (WC)"
   ]
  },
  {
   "cell_type": "code",
   "execution_count": 30,
   "metadata": {},
   "outputs": [],
   "source": [
    "# Standard code for working on specific time-range stockvalues for a particular company\n",
    "# Note there is no time granularity for WC analysis\n",
    "def WC(company):         \n",
    "    output = company.apply(lambda row: (row.high + row.low + 2*row.close)/4, axis = 1)\n",
    "\n",
    "    return output"
   ]
  },
  {
   "cell_type": "markdown",
   "metadata": {},
   "source": [
    "# (7) Williams %R Formula (WRF)"
   ]
  },
  {
   "cell_type": "code",
   "execution_count": 35,
   "metadata": {},
   "outputs": [],
   "source": [
    "# Standard code for working on specific time-range stockvalues for a particular company\n",
    "def WRF (company, p):\n",
    "    initial = company['date'][0]\n",
    "    final = initial + pd.Timedelta(p, unit='d')\n",
    "    output = []\n",
    "    last_elem = company['date'].iloc[-1]\n",
    "\n",
    "    while final <= last_elem:\n",
    "        temp = period(company, initial, final) #A pandas frame with only the stocks in the particular time range\n",
    "        hh = temp['high'].max()\n",
    "        ll = temp['low'].min()\n",
    "        close = temp['close'].iloc[-1]\n",
    "        WR = (hh-close)/(hh-ll)*(-100)\n",
    "        output.append(WR)\n",
    "\n",
    "        initial += pd.Timedelta(1, unit='d')\n",
    "        final += pd.Timedelta(1, unit='d')\n",
    "\n",
    "    return output"
   ]
  },
  {
   "cell_type": "markdown",
   "metadata": {},
   "source": [
    "# (8) Aaron Oscillator (AO)"
   ]
  },
  {
   "cell_type": "code",
   "execution_count": 56,
   "metadata": {},
   "outputs": [],
   "source": [
    "# Standard code for working on specific time-range stockvalues for a particular company\n",
    "def AO (company):\n",
    "    p = 25\n",
    "    initial = company['date'][0]\n",
    "    final = initial + pd.Timedelta(p, unit='d')\n",
    "    output = [[],[],[]]\n",
    "    last_elem = company['date'].iloc[-1]\n",
    "    first_run = True\n",
    "    ctr1 = 0\n",
    "    ctr2 = 0\n",
    "    hh = 0\n",
    "    ll = 0\n",
    "\n",
    "    while final <= last_elem:\n",
    "        temp = period(company, initial, final) #A pandas frame with only the stocks in the particular time range            \n",
    "        \n",
    "        if first_run or ctr1 == 25:\n",
    "            hh = temp['high'].max()\n",
    "            ctr1 = len(temp) - temp['high'].values.argmax() - 2\n",
    "            \n",
    "        if first_run or ctr2 == 25:\n",
    "            ll = temp['low'].min()\n",
    "            ctr2 = len(temp) - temp['low'].values.argmin() - 2\n",
    "\n",
    "        if temp['high'].iloc[-1] >= hh:\n",
    "            ctr1 = 0\n",
    "            hh = temp['high'].iloc[-1]\n",
    "        else: \n",
    "            ctr1 += 1\n",
    "            \n",
    "        if temp['low'].iloc[-1] <= ll:\n",
    "            ctr2 = 0\n",
    "            ll = temp['low'].iloc[-1]\n",
    "        else: \n",
    "            ctr2 += 1\n",
    "        \n",
    "        a_up = 100*(p-ctr1)/p\n",
    "        a_down = 100*(p-ctr2)/p\n",
    "        a_osc = a_up - a_down            \n",
    "        output[0].append(a_osc)\n",
    "#         output[1].append(a_up)\n",
    "#         output[2].append(a_down)\n",
    "\n",
    "        initial += pd.Timedelta(1, unit='d')\n",
    "        final += pd.Timedelta(1, unit='d') \n",
    "        first_run = False\n",
    "\n",
    "    return output"
   ]
  },
  {
   "cell_type": "markdown",
   "metadata": {},
   "source": [
    "# \"MAIN FUNCTION\""
   ]
  },
  {
   "cell_type": "code",
   "execution_count": 67,
   "metadata": {},
   "outputs": [
    {
     "data": {
      "image/png": "[encoded data removed]",
      "text/plain": [
       "<Figure size 1440x720 with 1 Axes>"
      ]
     },
     "metadata": {
      "needs_background": "light"
     },
     "output_type": "display_data"
    }
   ],
   "source": [
    "output=[]\n",
    "p = 14 # Time period in days\n",
    "analysis = 'AD' # What type of feature to use for our analysis\n",
    "\n",
    "fig, ax = plt.subplots(figsize=(20,10))\n",
    "ax.tick_params(axis='both', labelsize=20)\n",
    "\n",
    "if analysis == 'AD':\n",
    "    output = AD(company, p)\n",
    "if analysis == 'GAPO':\n",
    "    output = GAPO(company, p)\n",
    "if analysis == 'OBV':\n",
    "    output = OBV(company, p)\n",
    "if analysis == 'RSI':\n",
    "    output = RSI(company, p)\n",
    "if analysis == 'WC':\n",
    "    output = WC(company)\n",
    "if analysis == 'WRF':\n",
    "    output = WRF(company, p)\n",
    "if analysis == 'AO':\n",
    "    output = AO(company)\n",
    "\n",
    "if analysis == 'LRF':\n",
    "    output = LRF(company, p)\n",
    "    plt.plot(output[0], output[1], label='High-Low Average')\n",
    "    plt.plot(output[0], output[2], label='Linear Reg Fit')\n",
    "    plt.xlabel('Time in Days', size = 20)\n",
    "    plt.ylabel('Price (in USD)', size = 20)\n",
    "    plt.title('Stocks for {0}'.format(company['Name'].iloc[0]), size =30)\n",
    "    plt.legend()\n",
    "    \n",
    "if analysis == 'AO':\n",
    "    output = AO(company)\n",
    "    plt.plot(output[0])\n",
    "    plt.xlabel('Time in Days', size = 20)\n",
    "    plt.ylabel('Aaron Oscillator Values', size = 20)\n",
    "    plt.title('Aaron Oscillator values for {0}'.format(company['Name'].iloc[0]), size =30)\n",
    "    plt.show()\n",
    "    \n",
    "#     fig, ax = plt.subplots(figsize=(20,10))\n",
    "#     ax.tick_params(axis='both', labelsize=20)\n",
    "#     plt.plot(output[1], label='Aaron UP')\n",
    "#     plt.plot(output[2], label='Aaron DOWN')\n",
    "#     plt.xlabel('Time in Days', size = 20)\n",
    "#     plt.ylabel('Aaron Oscillator Values', size = 20)\n",
    "#     plt.title('Aaron UP and DOWN for Apple', size =30)\n",
    "#     plt.legend()\n",
    "#     plt.show()    \n",
    "\n",
    "if not analysis == 'LRF' and not analysis == 'AO':\n",
    "    plt.plot(output)\n",
    "    plt.title('{0} Analysis for company: {1}'.format(analysis, company['Name'].iloc[0]), size = 30)\n",
    "    plt.xlabel('Time granularity of: {0} days'.format(p), size = 20)\n",
    "    plt.ylabel('Value of {0} feature'.format(analysis), size = 20)"
   ]
  },
  {
   "cell_type": "code",
   "execution_count": 66,
   "metadata": {},
   "outputs": [
    {
     "data": {
      "text/html": [
       "<div>\n",
       "<style scoped>\n",
       "    .dataframe tbody tr th:only-of-type {\n",
       "        vertical-align: middle;\n",
       "    }\n",
       "\n",
       "    .dataframe tbody tr th {\n",
       "        vertical-align: top;\n",
       "    }\n",
       "\n",
       "    .dataframe thead th {\n",
       "        text-align: right;\n",
       "    }\n",
       "</style>\n",
       "<table border=\"1\" class=\"dataframe\">\n",
       "  <thead>\n",
       "    <tr style=\"text-align: right;\">\n",
       "      <th></th>\n",
       "      <th>date</th>\n",
       "      <th>open</th>\n",
       "      <th>high</th>\n",
       "      <th>low</th>\n",
       "      <th>close</th>\n",
       "      <th>volume</th>\n",
       "      <th>Name</th>\n",
       "    </tr>\n",
       "  </thead>\n",
       "  <tbody>\n",
       "    <tr>\n",
       "      <th>0</th>\n",
       "      <td>2013-02-08</td>\n",
       "      <td>67.7142</td>\n",
       "      <td>68.4014</td>\n",
       "      <td>66.8928</td>\n",
       "      <td>67.8542</td>\n",
       "      <td>158168416</td>\n",
       "      <td>AAPL</td>\n",
       "    </tr>\n",
       "    <tr>\n",
       "      <th>1</th>\n",
       "      <td>2013-02-11</td>\n",
       "      <td>68.0714</td>\n",
       "      <td>69.2771</td>\n",
       "      <td>67.6071</td>\n",
       "      <td>68.5614</td>\n",
       "      <td>129029425</td>\n",
       "      <td>AAPL</td>\n",
       "    </tr>\n",
       "    <tr>\n",
       "      <th>2</th>\n",
       "      <td>2013-02-12</td>\n",
       "      <td>68.5014</td>\n",
       "      <td>68.9114</td>\n",
       "      <td>66.8205</td>\n",
       "      <td>66.8428</td>\n",
       "      <td>151829363</td>\n",
       "      <td>AAPL</td>\n",
       "    </tr>\n",
       "    <tr>\n",
       "      <th>3</th>\n",
       "      <td>2013-02-13</td>\n",
       "      <td>66.7442</td>\n",
       "      <td>67.6628</td>\n",
       "      <td>66.1742</td>\n",
       "      <td>66.7156</td>\n",
       "      <td>118721995</td>\n",
       "      <td>AAPL</td>\n",
       "    </tr>\n",
       "    <tr>\n",
       "      <th>4</th>\n",
       "      <td>2013-02-14</td>\n",
       "      <td>66.3599</td>\n",
       "      <td>67.3771</td>\n",
       "      <td>66.2885</td>\n",
       "      <td>66.6556</td>\n",
       "      <td>88809154</td>\n",
       "      <td>AAPL</td>\n",
       "    </tr>\n",
       "  </tbody>\n",
       "</table>\n",
       "</div>"
      ],
      "text/plain": [
       "        date     open     high      low    close     volume  Name\n",
       "0 2013-02-08  67.7142  68.4014  66.8928  67.8542  158168416  AAPL\n",
       "1 2013-02-11  68.0714  69.2771  67.6071  68.5614  129029425  AAPL\n",
       "2 2013-02-12  68.5014  68.9114  66.8205  66.8428  151829363  AAPL\n",
       "3 2013-02-13  66.7442  67.6628  66.1742  66.7156  118721995  AAPL\n",
       "4 2013-02-14  66.3599  67.3771  66.2885  66.6556   88809154  AAPL"
      ]
     },
     "execution_count": 66,
     "metadata": {},
     "output_type": "execute_result"
    }
   ],
   "source": [
    "company.head()"
   ]
  },
  {
   "cell_type": "code",
   "execution_count": null,
   "metadata": {},
   "outputs": [],
   "source": []
  }
 ],
 "metadata": {
  "kernelspec": {
   "display_name": "Python 3",
   "language": "python",
   "name": "python3"
  },
  "language_info": {
   "codemirror_mode": {
    "name": "ipython",
    "version": 3
   },
   "file_extension": ".py",
   "mimetype": "text/x-python",
   "name": "python",
   "nbconvert_exporter": "python",
   "pygments_lexer": "ipython3",
   "version": "3.6.8"
  }
 },
 "nbformat": 4,
 "nbformat_minor": 2
}
