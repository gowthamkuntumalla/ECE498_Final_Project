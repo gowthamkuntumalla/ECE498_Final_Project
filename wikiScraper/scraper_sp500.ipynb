{
 "cells": [
  {
   "cell_type": "code",
   "execution_count": 1,
   "metadata": {},
   "outputs": [],
   "source": [
    "from bs4 import BeautifulSoup\n",
    "import requests\n",
    "import pandas as pd\n",
    "\n"
   ]
  },
  {
   "cell_type": "markdown",
   "metadata": {},
   "source": [
    "### Pandas"
   ]
  },
  {
   "cell_type": "code",
   "execution_count": 17,
   "metadata": {},
   "outputs": [
    {
     "name": "stdout",
     "output_type": "stream",
     "text": [
      "  Symbol             Security SEC filings             GICS Sector  \\\n",
      "0    MMM           3M Company     reports             Industrials   \n",
      "1    ABT  Abbott Laboratories     reports             Health Care   \n",
      "2   ABBV          AbbVie Inc.     reports             Health Care   \n",
      "3   ABMD          ABIOMED Inc     reports             Health Care   \n",
      "4    ACN        Accenture plc     reports  Information Technology   \n",
      "\n",
      "                GICS Sub Industry    Headquarters Location Date first added  \\\n",
      "0        Industrial Conglomerates      St. Paul, Minnesota       1976-08-09   \n",
      "1           Health Care Equipment  North Chicago, Illinois       1964-03-31   \n",
      "2                 Pharmaceuticals  North Chicago, Illinois       2012-12-31   \n",
      "3           Health Care Equipment   Danvers, Massachusetts       2018-05-31   \n",
      "4  IT Consulting & Other Services          Dublin, Ireland       2011-07-06   \n",
      "\n",
      "       CIK      Founded  \n",
      "0    66740         1902  \n",
      "1     1800         1888  \n",
      "2  1551152  2013 (1888)  \n",
      "3   815094         1981  \n",
      "4  1467373         1989  \n"
     ]
    }
   ],
   "source": [
    "weblink = \"https://en.wikipedia.org/wiki/List_of_S%26P_500_companies\"\n",
    "result = pd.read_html(weblink)[0]\n",
    "result.to_csv('wiki_sp500_industries.csv')\n",
    "print(result.head())"
   ]
  },
  {
   "cell_type": "markdown",
   "metadata": {},
   "source": [
    "### Beautiful soups examples"
   ]
  },
  {
   "cell_type": "code",
   "execution_count": 2,
   "metadata": {},
   "outputs": [],
   "source": [
    "weblink = \"https://en.wikipedia.org/wiki/List_of_S%26P_500_companies\"\n",
    "html_doc = requests.get(weblink).text\n",
    "soup = BeautifulSoup(html_doc, 'html.parser')\n",
    "My_table = soup.find(\"table\",{\"class\":\"wikitable sortable\"})\n",
    "\n",
    "clusters = pd.DataFrame()\n",
    "for link in soup.find_all('td'):\n",
    "    comp = link.get_text()\n",
    "    print(comp)\n",
    "# print(My_table.prettify())"
   ]
  }
 ],
 "metadata": {
  "kernelspec": {
   "display_name": "Python 3",
   "language": "python",
   "name": "python3"
  },
  "language_info": {
   "codemirror_mode": {
    "name": "ipython",
    "version": 3
   },
   "file_extension": ".py",
   "mimetype": "text/x-python",
   "name": "python",
   "nbconvert_exporter": "python",
   "pygments_lexer": "ipython3",
   "version": "3.7.4"
  }
 },
 "nbformat": 4,
 "nbformat_minor": 2
}
