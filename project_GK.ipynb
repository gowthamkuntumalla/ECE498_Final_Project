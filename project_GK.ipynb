{
 "cells": [
  {
   "cell_type": "code",
   "execution_count": 1,
   "metadata": {},
   "outputs": [],
   "source": [
    "\"\"\"\n",
    "author: gowthamkuntumalla\n",
    "\n",
    "Title: Quantitative Analysis of Stock Prices for Similarity Grouping using Technical Indicator\n",
    "\n",
    "# Quantitative Analysis: https://www.investopedia.com/terms/q/quantitativeanalysis.asp\n",
    "# Technical Indicator: https://www.investopedia.com/terms/t/technicalindicator.asp\n",
    "\n",
    "Statistical Learning Techniques are employed for clustering and such.\n",
    "\"\"\"\n",
    "\n",
    "import pandas as pd\n",
    "idx = pd.IndexSlice\n",
    "from pathlib import Path\n",
    "\n",
    "#plotting\n",
    "import matplotlib.pyplot as plt\n",
    "from bokeh.plotting import figure,show\n",
    "from bokeh.models.sources import ColumnDataSource\n",
    "from bokeh.models import HoverTool, DatetimeTickFormatter"
   ]
  },
  {
   "cell_type": "markdown",
   "metadata": {},
   "source": [
    "# Features"
   ]
  },
  {
   "cell_type": "markdown",
   "metadata": {},
   "source": [
    "There are two basic types of technical indicators:\n",
    "\n",
    "**Overlays**: Technical indicators that use the same scale as prices are plotted over the top of the prices on a stock chart. Examples include moving averages and Bollinger Bands. <br>\n",
    "**Oscillators**: Technical indicators that oscillate between a local minimum and maximum are plotted above or below a price chart. Examples include the stochastic oscillator, MACD or RSI."
   ]
  },
  {
   "cell_type": "markdown",
   "metadata": {},
   "source": [
    "## 1. Bollinger Bandwidth"
   ]
  },
  {
   "cell_type": "code",
   "execution_count": 2,
   "metadata": {},
   "outputs": [],
   "source": [
    "def bollinger_bandwidth(m = 2, n = 20):\n",
    "    \"\"\"  \n",
    "    Bollinger Bandwidth \n",
    "    \n",
    "    https://www.investopedia.com/terms/b/bollingerbands.asp\n",
    "    \n",
    "    \"\"\"\n",
    "    # Bollinger Bandwidth = ((Upper Band - Lower Band) / Middle Band) * 100 \n",
    "    # m = num of standard devs (typically 2)\n",
    "    # n = No. days in smoothening period (typically 20)\n",
    "    \n",
    "    col_name= 'bollinger_bandwidth'\n",
    "    \n",
    "    def MA(tp,n):\n",
    "        \"\"\"Moving Average\"\"\"\n",
    "        return tp.rolling(n).mean()\n",
    "    \n",
    "    def TP(stock):\n",
    "        \"\"\"Typical Price\"\"\"\n",
    "        return (stock['high']+stock['low']+stock['close'])/3 \n",
    "    \n",
    "    def stdev(tp,n):\n",
    "        return tp.rolling(n).std()\n",
    "        \n",
    "    for tick in tickers: \n",
    "        stock = stocks_df.loc[tick]\n",
    "        stock_tp = TP(stock)\n",
    "        middle_band = MA(stock_tp,n) # Middle Bollinger Band\n",
    "        a = 2*m*stdev(stock_tp,n)/ middle_band \n",
    "        stocks_df.loc[tick,col_name] = pd.DataFrame(a,columns = [col_name])\n",
    "    "
   ]
  },
  {
   "cell_type": "markdown",
   "metadata": {},
   "source": [
    "## 2. Coppock Curve"
   ]
  },
  {
   "cell_type": "code",
   "execution_count": 3,
   "metadata": {},
   "outputs": [],
   "source": [
    "def coppock_curve():    \n",
    "    \"\"\" \n",
    "    Coppock Curve\n",
    "    \n",
    "    https://www.investopedia.com/terms/c/coppockcurve.asp\n",
    "    \n",
    "    \"\"\"\n",
    "    pass"
   ]
  },
  {
   "cell_type": "markdown",
   "metadata": {},
   "source": [
    "## 3. Correlation Coefficient"
   ]
  },
  {
   "cell_type": "code",
   "execution_count": 4,
   "metadata": {},
   "outputs": [],
   "source": [
    "def corr_coef():\n",
    "    \"\"\"\n",
    "    Correlation Coefficient\n",
    "    \n",
    "    \"\"\"\n",
    "    pass"
   ]
  },
  {
   "cell_type": "markdown",
   "metadata": {},
   "source": [
    "## 4. MACD"
   ]
  },
  {
   "cell_type": "code",
   "execution_count": 5,
   "metadata": {},
   "outputs": [],
   "source": [
    "def macd(price_type = 'close'):\n",
    "    \"\"\"\n",
    "    Moving Average Convergence Divergence\n",
    "    \n",
    "    https://www.investopedia.com/terms/m/macd.asp\n",
    "    \n",
    "    \"\"\"\n",
    "    pass"
   ]
  },
  {
   "cell_type": "markdown",
   "metadata": {},
   "source": [
    "## 5. Market Facilitation Index"
   ]
  },
  {
   "cell_type": "code",
   "execution_count": 6,
   "metadata": {},
   "outputs": [],
   "source": [
    "def market_fac_ind():\n",
    "    \"\"\"\n",
    "    Market Facilitation Index\n",
    "    \n",
    "    https://en.wikipedia.org/wiki/Market_facilitation_index\n",
    "    \n",
    "    \"\"\"\n",
    "    # (High - Low) / Volume\n",
    "    pass"
   ]
  },
  {
   "cell_type": "markdown",
   "metadata": {},
   "source": [
    "## 6. Momentum Indicator"
   ]
  },
  {
   "cell_type": "code",
   "execution_count": 7,
   "metadata": {},
   "outputs": [],
   "source": [
    "def momentum_indic():\n",
    "    \"\"\"\n",
    "    Momentum Indicator\n",
    "    \n",
    "    https://www.fidelity.com/learning-center/trading-investing/technical-analysis/technical-indicator-guide/momentum-oscillator\n",
    "    \n",
    "    \"\"\"\n",
    "    # (Price today / Price n periods ago) x 100\n",
    "    pass"
   ]
  },
  {
   "cell_type": "markdown",
   "metadata": {},
   "source": [
    "## 7. Positive Volume Index"
   ]
  },
  {
   "cell_type": "code",
   "execution_count": 8,
   "metadata": {},
   "outputs": [],
   "source": [
    "def pvi():\n",
    "    \"\"\"\n",
    "    Positive Volume Index\n",
    "    \n",
    "    https://www.investopedia.com/terms/p/pvi.asp\n",
    "    \n",
    "    \"\"\"\n",
    "    pass"
   ]
  },
  {
   "cell_type": "markdown",
   "metadata": {},
   "source": [
    "## 8. Relative Volatility Index"
   ]
  },
  {
   "cell_type": "code",
   "execution_count": 9,
   "metadata": {},
   "outputs": [],
   "source": [
    "def rvi():\n",
    "    \"\"\"\n",
    "    Relative Volatility Index\n",
    "    \n",
    "    https://www.marketvolume.com/technicalanalysis/relativevolatilityindex.asp\n",
    "    \n",
    "    \"\"\"\n",
    "    \n",
    "    pass"
   ]
  },
  {
   "cell_type": "markdown",
   "metadata": {},
   "source": [
    "## 9. Standard Deviation"
   ]
  },
  {
   "cell_type": "code",
   "execution_count": 24,
   "metadata": {},
   "outputs": [],
   "source": [
    "def st_dev(n = 10,col_name = 'st_dev'):\n",
    "    \"\"\"\n",
    "    Standard Deviation\n",
    "    \n",
    "    \"\"\"\n",
    "    # n = no of days to calculate standard deviation\n",
    "    col_name = 'st_dev'\n",
    "    def TP(stock):\n",
    "        \"\"\"Typical Price\"\"\"\n",
    "        return (stock['high']+stock['low']+stock['close'])/3 \n",
    "    \n",
    "    def stdev(tp,n):\n",
    "        \"\"\"rolling standard deviation\"\"\"\n",
    "        return tp.rolling(n).std()\n",
    "    \n",
    "    for tick in tickers: \n",
    "        stock = stocks_df.loc[tick]\n",
    "        stock_tp = TP(stock)\n",
    "        a = stdev(stock_tp,n)\n",
    "        stocks_df.loc[tick,col_name] = pd.DataFrame(a,columns = [col_name])\n",
    "    "
   ]
  },
  {
   "cell_type": "markdown",
   "metadata": {},
   "source": [
    "## 10. Stochastic Momentum Index"
   ]
  },
  {
   "cell_type": "code",
   "execution_count": 11,
   "metadata": {},
   "outputs": [],
   "source": [
    "def stoc_momentum_ind():\n",
    "    \"\"\"\n",
    "    Stochastic Momentum Index\n",
    "    \n",
    "    https://www.fmlabs.com/reference/default.htm?url=SMI.htm\n",
    "    \"\"\"\n",
    "    pass"
   ]
  },
  {
   "cell_type": "markdown",
   "metadata": {},
   "source": [
    "## 11. Stochastics"
   ]
  },
  {
   "cell_type": "code",
   "execution_count": 12,
   "metadata": {},
   "outputs": [],
   "source": [
    "def stochastics():\n",
    "    \"\"\"\n",
    "    Stochastics\n",
    "    \n",
    "    https://www.investopedia.com/terms/s/stochasticoscillator.asp\n",
    "    \n",
    "    \"\"\"\n",
    "    pass"
   ]
  },
  {
   "cell_type": "markdown",
   "metadata": {},
   "source": [
    "## 12. Typical Price"
   ]
  },
  {
   "cell_type": "code",
   "execution_count": 13,
   "metadata": {},
   "outputs": [],
   "source": [
    "def typical_price(col_name= 'typical_price'):\n",
    "    \"\"\"\n",
    "    Typical Price\n",
    "    \n",
    "    https://en.wikipedia.org/wiki/Typical_price\n",
    "    \n",
    "    \"\"\"    \n",
    "    # H+L+C/3\n",
    "    for tick in tickers:\n",
    "        stock = stocks_df.loc[tick]\n",
    "        a = (stock['high']+stock['low']+stock['close'])/3     \n",
    "        stocks_df.loc[tick,col_name] = pd.DataFrame(a,columns = [col_name])\n",
    "        "
   ]
  },
  {
   "cell_type": "markdown",
   "metadata": {},
   "source": [
    "# Import Data"
   ]
  },
  {
   "cell_type": "code",
   "execution_count": 14,
   "metadata": {},
   "outputs": [
    {
     "data": {
      "text/html": [
       "<div>\n",
       "<style scoped>\n",
       "    .dataframe tbody tr th:only-of-type {\n",
       "        vertical-align: middle;\n",
       "    }\n",
       "\n",
       "    .dataframe tbody tr th {\n",
       "        vertical-align: top;\n",
       "    }\n",
       "\n",
       "    .dataframe thead th {\n",
       "        text-align: right;\n",
       "    }\n",
       "</style>\n",
       "<table border=\"1\" class=\"dataframe\">\n",
       "  <thead>\n",
       "    <tr style=\"text-align: right;\">\n",
       "      <th></th>\n",
       "      <th></th>\n",
       "      <th>open</th>\n",
       "      <th>high</th>\n",
       "      <th>low</th>\n",
       "      <th>close</th>\n",
       "      <th>volume</th>\n",
       "    </tr>\n",
       "    <tr>\n",
       "      <th>Name</th>\n",
       "      <th>date</th>\n",
       "      <th></th>\n",
       "      <th></th>\n",
       "      <th></th>\n",
       "      <th></th>\n",
       "      <th></th>\n",
       "    </tr>\n",
       "  </thead>\n",
       "  <tbody>\n",
       "    <tr>\n",
       "      <td rowspan=\"5\" valign=\"top\">AAL</td>\n",
       "      <td>2/8/2013</td>\n",
       "      <td>15.07</td>\n",
       "      <td>15.12</td>\n",
       "      <td>14.63</td>\n",
       "      <td>14.75</td>\n",
       "      <td>8407500</td>\n",
       "    </tr>\n",
       "    <tr>\n",
       "      <td>2/11/2013</td>\n",
       "      <td>14.89</td>\n",
       "      <td>15.01</td>\n",
       "      <td>14.26</td>\n",
       "      <td>14.46</td>\n",
       "      <td>8882000</td>\n",
       "    </tr>\n",
       "    <tr>\n",
       "      <td>2/12/2013</td>\n",
       "      <td>14.45</td>\n",
       "      <td>14.51</td>\n",
       "      <td>14.10</td>\n",
       "      <td>14.27</td>\n",
       "      <td>8126000</td>\n",
       "    </tr>\n",
       "    <tr>\n",
       "      <td>2/13/2013</td>\n",
       "      <td>14.30</td>\n",
       "      <td>14.94</td>\n",
       "      <td>14.25</td>\n",
       "      <td>14.66</td>\n",
       "      <td>10259500</td>\n",
       "    </tr>\n",
       "    <tr>\n",
       "      <td>2/14/2013</td>\n",
       "      <td>14.94</td>\n",
       "      <td>14.96</td>\n",
       "      <td>13.16</td>\n",
       "      <td>13.99</td>\n",
       "      <td>31879900</td>\n",
       "    </tr>\n",
       "  </tbody>\n",
       "</table>\n",
       "</div>"
      ],
      "text/plain": [
       "                 open   high    low  close    volume\n",
       "Name date                                           \n",
       "AAL  2/8/2013   15.07  15.12  14.63  14.75   8407500\n",
       "     2/11/2013  14.89  15.01  14.26  14.46   8882000\n",
       "     2/12/2013  14.45  14.51  14.10  14.27   8126000\n",
       "     2/13/2013  14.30  14.94  14.25  14.66  10259500\n",
       "     2/14/2013  14.94  14.96  13.16  13.99  31879900"
      ]
     },
     "execution_count": 14,
     "metadata": {},
     "output_type": "execute_result"
    }
   ],
   "source": [
    "dirname = 'sandp500'\n",
    "csv_file = 'all_stocks_5yr.csv'\n",
    "filename = Path(dirname, csv_file)\n",
    "stocks_df = pd.read_csv(filename)\n",
    "stocks_df.set_index(['Name','date'],inplace = True) # contains all stocks time series data\n",
    "stocks_df.head()"
   ]
  },
  {
   "cell_type": "markdown",
   "metadata": {},
   "source": [
    "# Calling Features"
   ]
  },
  {
   "cell_type": "code",
   "execution_count": 15,
   "metadata": {},
   "outputs": [],
   "source": [
    "## Names of all feature functions\n",
    "feature_funcs = [bollinger_bandwidth,coppock_curve,corr_coef,macd,\\\n",
    "                 market_fac_ind,momentum_indic,pvi,rvi,st_dev,stoc_momentum_ind,stochastics,typical_price]\n",
    "\n",
    "## Stock Tickers. Ex: 'AAPL', 'MSFT' ...\n",
    "tickers = stocks_df.index.get_level_values(0).unique().tolist() # len(tickers) == 505\n"
   ]
  },
  {
   "cell_type": "markdown",
   "metadata": {},
   "source": [
    "# Appendix - Bokeh Interactive Data Visualization"
   ]
  },
  {
   "cell_type": "code",
   "execution_count": 16,
   "metadata": {},
   "outputs": [],
   "source": [
    "#dirname = 'sandp500/individual_stocks_5yr'\n",
    "# filename = 'AAPL_data'\n",
    "# suffix = '.csv'\n",
    "\n",
    "# filename = Path(dirname, filename).with_suffix(suffix)\n",
    "# aapl_df = pd.read_csv(filename)\n",
    "# aapl_df.date = pd.to_datetime(aapl_df.date,infer_datetime_format=True);\n",
    "\n",
    "\n",
    "## Sample Bokeh Code for Interactive Visualization\n",
    "# plot = figure(x_axis_label = 'Time', y_axis_label = 'Price',x_axis_type = 'datetime',title = 'Closing Price of AAPL')\n",
    "# aapl = ColumnDataSource(aapl_df)\n",
    "# plot.circle('date','close',source = aapl)\n",
    "# # plot.xaxis[0].formatter = DatetimeTickFormatter(days='%m/%d')\n",
    "# plot.add_tools(HoverTool(tooltips= [(\"Dates\",\"@date\"), (\"Close Prices\",\"@close\")]))\n",
    "# show(plot)"
   ]
  }
 ],
 "metadata": {
  "kernelspec": {
   "display_name": "Python 3",
   "language": "python",
   "name": "python3"
  },
  "language_info": {
   "codemirror_mode": {
    "name": "ipython",
    "version": 3
   },
   "file_extension": ".py",
   "mimetype": "text/x-python",
   "name": "python",
   "nbconvert_exporter": "python",
   "pygments_lexer": "ipython3",
   "version": "3.7.4"
  }
 },
 "nbformat": 4,
 "nbformat_minor": 2
}
