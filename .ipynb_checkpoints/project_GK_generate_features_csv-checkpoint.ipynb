{
 "cells": [
  {
   "cell_type": "code",
   "execution_count": 1,
   "metadata": {},
   "outputs": [],
   "source": [
    "\"\"\"\n",
    "author: gowthamkuntumalla\n",
    "\n",
    "Title: Quantitative Analysis of Stock Prices for Similarity Grouping using Technical Indicator\n",
    "\n",
    "# Quantitative Analysis: https://www.investopedia.com/terms/q/quantitativeanalysis.asp\n",
    "# Technical Indicator: https://www.investopedia.com/terms/t/technicalindicator.asp\n",
    "\n",
    "Statistical Learning Techniques are employed for clustering and such.\n",
    "\"\"\"\n",
    "\n",
    "import pandas as pd\n",
    "import numpy as np\n",
    "idx = pd.IndexSlice\n",
    "from pathlib import Path\n",
    "\n",
    "#plotting\n",
    "import matplotlib.pyplot as plt"
   ]
  },
  {
   "cell_type": "markdown",
   "metadata": {},
   "source": [
    "# Features"
   ]
  },
  {
   "cell_type": "markdown",
   "metadata": {},
   "source": [
    "There are two basic types of technical indicators:\n",
    "\n",
    "**Overlays**: Technical indicators that use the same scale as prices are plotted over the top of the prices on a stock chart. Examples include moving averages and Bollinger Bands. <br>\n",
    "**Oscillators**: Technical indicators that oscillate between a local minimum and maximum are plotted above or below a price chart. Examples include the stochastic oscillator, MACD or RSI."
   ]
  },
  {
   "cell_type": "markdown",
   "metadata": {},
   "source": [
    "## 1. Bollinger Bandwidth"
   ]
  },
  {
   "cell_type": "code",
   "execution_count": 2,
   "metadata": {},
   "outputs": [],
   "source": [
    "def bollinger_bandwidth(m = 2, n = 20,col_name = 'bollinger_bandwidth'):\n",
    "    \"\"\"  \n",
    "    Bollinger Bandwidth \n",
    "    \n",
    "    https://www.investopedia.com/terms/b/bollingerbands.asp\n",
    "    \n",
    "    \"\"\"\n",
    "    # Bollinger Bandwidth = ((Upper Band - Lower Band) / Middle Band) * 100 \n",
    "    # m = num of standard devs (typically 2)\n",
    "    # n = No. days in smoothening period (typically 20)\n",
    "    \n",
    "    \n",
    "    def MA(tp,n):\n",
    "        \"\"\"Moving Average\"\"\"\n",
    "        return tp.rolling(n).mean()\n",
    "    \n",
    "    def TP(stock):\n",
    "        \"\"\"Typical Price\"\"\"\n",
    "        return (stock['high']+stock['low']+stock['close'])/3 \n",
    "    \n",
    "    def stdev(tp,n):\n",
    "        return tp.rolling(n).std()\n",
    "        \n",
    "    for tick in tickers: \n",
    "        stock = stocks_df.loc[tick]\n",
    "        stock_tp = TP(stock)\n",
    "        middle_band = MA(stock_tp,n) # Middle Bollinger Band\n",
    "        a = 2*m*stdev(stock_tp,n)/ middle_band \n",
    "        a.rename(None,inplace=True)\n",
    "        stocks_df.loc[tick,col_name] = pd.DataFrame(a,columns = [col_name])"
   ]
  },
  {
   "cell_type": "markdown",
   "metadata": {},
   "source": [
    "## 2. Coppock Curve"
   ]
  },
  {
   "cell_type": "code",
   "execution_count": 3,
   "metadata": {},
   "outputs": [],
   "source": [
    "def coppock_curve(m = 10, n1= 14, n2 = 11, price_type = 'close',col_name = 'coppock_curve'):    \n",
    "    \"\"\" \n",
    "    Coppock Curve\n",
    "    \n",
    "    https://www.investopedia.com/terms/c/coppockcurve.asp\n",
    "    \n",
    "    Using default price columns as 'close'\n",
    "    \"\"\"\n",
    "    # 10-period WMA of (14-period RoC + 11-period RoC)\n",
    "    # ROC = [(Close - Close n periods ago) / (Close n periods ago)] * 100 \n",
    "    \n",
    "    def RoC(stock_price,n): \n",
    "        \"\"\"Rate of change\"\"\"\n",
    "        return 100*stock[price_type].pct_change(periods = n)\n",
    "        \n",
    "    \n",
    "    def WMA(m,roc_n1,roc_n2):\n",
    "        \"\"\"Weighted Moving Average\"\"\"  \n",
    "        weights = np.arange(1,m+1) #this creates an array with integers 1 to 10 included\n",
    "        return (roc_n1 + roc_n2).rolling(m).apply(lambda prices: np.dot(prices, weights)/weights.sum(), raw=True)\n",
    "    \n",
    "    for tick in tickers: \n",
    "        stock = stocks_df.loc[tick]\n",
    "        \n",
    "        roc_n1 = RoC(stock,n1)\n",
    "        roc_n2 = RoC(stock,n2)\n",
    "        \n",
    "        a = np.round(WMA(m,roc_n1,roc_n2),decimals = 3)/1.0\n",
    "        a.rename(None,inplace=True)\n",
    "        stocks_df.loc[tick,col_name] = pd.DataFrame(a,columns = [col_name])\n",
    "        \n",
    "    "
   ]
  },
  {
   "cell_type": "markdown",
   "metadata": {},
   "source": [
    "## 3. Correlation Coefficient"
   ]
  },
  {
   "cell_type": "code",
   "execution_count": 4,
   "metadata": {},
   "outputs": [],
   "source": [
    "def corr_coef():\n",
    "    \"\"\"\n",
    "    Correlation Coefficient\n",
    "    \n",
    "    \"\"\"\n",
    "    \n",
    "    pass"
   ]
  },
  {
   "cell_type": "markdown",
   "metadata": {},
   "source": [
    "## 4. MACD"
   ]
  },
  {
   "cell_type": "code",
   "execution_count": 5,
   "metadata": {},
   "outputs": [],
   "source": [
    "def macd(nfast = 12 , nslow =26 ,m = 9,price_type = 'close',col_name = 'macd'):\n",
    "    \"\"\"\n",
    "    Moving Average Convergence Divergence\n",
    "    \n",
    "    https://www.investopedia.com/terms/m/macd.asp\n",
    "    \n",
    "    Note: difference between macd and signal is stored for convenience\n",
    "    \"\"\"\n",
    "    # macd = 12-Period EMA − 26-Period EMA\n",
    "    # signal = 9 period ema of macd\n",
    "    \n",
    "    for tick in tickers: \n",
    "        stock = stocks_df.loc[tick]\n",
    "        \n",
    "        macd = stock[price_type].ewm(span = nfast).mean()-stock[price_type].ewm(span = nslow).mean()\n",
    "        signal = macd.ewm(span = m).mean()\n",
    "        a = np.round(macd - signal,5)\n",
    "        a.rename(None,inplace=True)\n",
    "        stocks_df.loc[tick,col_name] = pd.DataFrame(a,columns = [col_name])\n",
    "        "
   ]
  },
  {
   "cell_type": "markdown",
   "metadata": {},
   "source": [
    "## 5. Market Facilitation Index"
   ]
  },
  {
   "cell_type": "code",
   "execution_count": 6,
   "metadata": {},
   "outputs": [],
   "source": [
    "def market_fac_ind(col_name = 'market_fac_ind'):\n",
    "    \"\"\"\n",
    "    Market Facilitation Index\n",
    "    \n",
    "    https://en.wikipedia.org/wiki/Market_facilitation_index\n",
    "    https://www.tradingview.com/script/trUemla9-Market-Facilitation-Index-MFI/\n",
    "    \n",
    "    Use the indicator to see if the market is trending\n",
    "    \"\"\"\n",
    "    # (High - Low) / Volume\n",
    "    for tick in tickers: \n",
    "        stock = stocks_df.loc[tick]\n",
    "        a = (stock['high'] - stock['low'])/stock['volume']\n",
    "        a.rename(None,inplace=True)\n",
    "        stocks_df.loc[tick,col_name] = pd.DataFrame(a,columns = [col_name])\n",
    "        \n",
    "    \n",
    "    "
   ]
  },
  {
   "cell_type": "markdown",
   "metadata": {},
   "source": [
    "## 6. Momentum Indicator"
   ]
  },
  {
   "cell_type": "code",
   "execution_count": 7,
   "metadata": {},
   "outputs": [],
   "source": [
    "def momentum_indic(n = 14,col_name = 'momentum_indic', price_type = 'close'):\n",
    "    \"\"\"\n",
    "    Momentum Indicator\n",
    "    \n",
    "    https://commodity.com/technical-analysis/momentum/\n",
    "    \n",
    "    \"\"\"\n",
    "    # (Price today - Price n periods ago) x 100\n",
    "    \n",
    "    for tick in tickers: \n",
    "        stock = stocks_df.loc[tick]\n",
    "        \n",
    "        a = stock[price_type] - stock[price_type].shift(periods = n)\n",
    "        \n",
    "        a.rename(None,inplace=True)\n",
    "        stocks_df.loc[tick,col_name] = pd.DataFrame(a,columns = [col_name])\n",
    "        "
   ]
  },
  {
   "cell_type": "markdown",
   "metadata": {},
   "source": [
    "## 7. Positive Volume Index"
   ]
  },
  {
   "cell_type": "code",
   "execution_count": 8,
   "metadata": {},
   "outputs": [],
   "source": [
    "def pvi(col_name = 'pvi', price_type = 'close', ppvi = 100):\n",
    "    \"\"\"\n",
    "    Positive Volume Index\n",
    "    \n",
    "    https://www.investopedia.com/terms/p/pvi.asp\n",
    "    \n",
    "    Implementation is slow. It may be improved!\n",
    "    \"\"\"\n",
    "    # pvi = ppvi + (tcp-ycp)/ycp * ppvi\n",
    "    # if tvol < yvol :then pvi = ppvi\n",
    "    # if no starting value :then ppvi  = 100 # starting value arbritrary\n",
    "    \n",
    "    def func(stock,ppvi):\n",
    "        a = pd.Series(stock.index)       \n",
    "        a.iloc[0] = ppvi        \n",
    "        for i in range(1, len(a)):            \n",
    "            if stock['volume'].iloc[i] > stock['volume'].iloc[i-1]:\n",
    "                pvi = ppvi * (1+ (stock[price_type].iloc[i]-stock[price_type].iloc[i-1])/stock[price_type].iloc[i-1])\n",
    "                a.iloc[i] = pvi\n",
    "                ppvi = pvi\n",
    "            else:\n",
    "                a.iloc[i] = ppvi\n",
    "        return a\n",
    "    \n",
    "    for tick in tickers: \n",
    "        stock = stocks_df.loc[tick]\n",
    "        a = func(stock,ppvi)\n",
    "        a.rename(None,inplace=True)\n",
    "        stocks_df.loc[tick,col_name] = pd.DataFrame(a,columns = [col_name])\n",
    "        \n",
    "    stocks_df[col_name] = stocks_df[col_name].astype('float64')\n"
   ]
  },
  {
   "cell_type": "markdown",
   "metadata": {},
   "source": [
    "## 8. Relative Volatility Index"
   ]
  },
  {
   "cell_type": "code",
   "execution_count": 9,
   "metadata": {},
   "outputs": [],
   "source": [
    "def rvi(n = 10, m = 14,col_name = 'rvi'):\n",
    "    \"\"\"\n",
    "    Relative Volatility Index\n",
    "    \n",
    "    https://user42.tuxfamily.org/chart/manual/Relative-Volatility-Index.html\n",
    "    \n",
    "    \"\"\"\n",
    "    # n = stdev periods\n",
    "    # m = EMA periods\n",
    "    \n",
    "    def func(stock,n,m,price_type):       \n",
    "        stdev = stock[price_type].rolling(n).std()\n",
    "        mask = stock[price_type] > stock[price_type].shift(periods = 1)\n",
    "        \n",
    "        numer = stdev.where(mask,other = 0).ewm(span = m, min_periods=m,adjust=False).mean()\n",
    "        denom = stdev.ewm(span = m, min_periods=m,adjust=False).mean()\n",
    "        \n",
    "        rviOrig =   100 * (numer)/(denom)        \n",
    "        return rviOrig\n",
    "        \n",
    "    for tick in tickers: \n",
    "        stock = stocks_df.loc[tick]\n",
    "        \n",
    "        a = np.round(0.5*(func(stock,n,m,'high') + func(stock,n,m,'low')),3)\n",
    "\n",
    "        a.rename(None,inplace=True)\n",
    "        stocks_df.loc[tick,col_name] = pd.DataFrame(a,columns = [col_name])\n"
   ]
  },
  {
   "cell_type": "markdown",
   "metadata": {},
   "source": [
    "## 9. Standard Deviation"
   ]
  },
  {
   "cell_type": "code",
   "execution_count": 10,
   "metadata": {},
   "outputs": [],
   "source": [
    "def st_dev(n = 10,col_name = 'st_dev'):\n",
    "    \"\"\"\n",
    "    Standard Deviation\n",
    "    \n",
    "    \"\"\"\n",
    "    # n = no of days to calculate standard deviation\n",
    "\n",
    "    def TP(stock):\n",
    "        \"\"\"Typical Price\"\"\"\n",
    "        return (stock['high']+stock['low']+stock['close'])/3 \n",
    "    \n",
    "    def stdev(tp,n):\n",
    "        \"\"\"rolling standard deviation\"\"\"\n",
    "        return tp.rolling(n).std()\n",
    "    \n",
    "    for tick in tickers: \n",
    "        stock = stocks_df.loc[tick]\n",
    "        stock_tp = TP(stock)\n",
    "        a = stdev(stock_tp,n)\n",
    "        a.rename(None,inplace=True)\n",
    "        stocks_df.loc[tick,col_name] = pd.DataFrame(a,columns = [col_name])\n",
    "    "
   ]
  },
  {
   "cell_type": "markdown",
   "metadata": {},
   "source": [
    "## 10. Stochastic Momentum Index"
   ]
  },
  {
   "cell_type": "code",
   "execution_count": 11,
   "metadata": {},
   "outputs": [],
   "source": [
    "def smi(col_name = 'smi',n = 14, m = 3):\n",
    "    \"\"\"\n",
    "    Stochastic Momentum Index\n",
    "    \n",
    "    https://www.fmlabs.com/reference/default.htm?url=SMI.htm\n",
    "    https://tradingqna.com/t/need-formula-for-stochastic-momentum-index-indicator/43201\n",
    "    \"\"\"\n",
    "    # n = period 1 for calculating centre\n",
    "    # m = period 2 for EMA\n",
    "    \n",
    "    def func(stock,n,m):\n",
    "        centre = 0.5 * (stock['high'].rolling(n).max() + stock['low'].rolling(n).min()) \n",
    "        H = stock['close'] - centre        \n",
    "        cm = H.ewm(span = m).mean().ewm(span = m).mean()\n",
    "        \n",
    "        HL = stock['high'].rolling(n).max() - stock['low'].rolling(n).min()\n",
    "        hl = HL.ewm(span = m).mean().ewm(span = m).mean()\n",
    "        \n",
    "        SMI = 100 * cm/(hl/2)\n",
    "        return SMI\n",
    "        \n",
    "    \n",
    "    for tick in tickers: \n",
    "        stock = stocks_df.loc[tick]\n",
    "        a = np.round(func(stock, n,m),3)\n",
    "        a.rename(None,inplace=True)\n",
    "        stocks_df.loc[tick,col_name] = pd.DataFrame(a,columns = [col_name])\n",
    "    \n"
   ]
  },
  {
   "cell_type": "markdown",
   "metadata": {},
   "source": [
    "## 11. Stochastics"
   ]
  },
  {
   "cell_type": "code",
   "execution_count": 12,
   "metadata": {},
   "outputs": [],
   "source": [
    "def stochastics(col_name = 'stochastics', n = 14,price_type = 'close'):\n",
    "    \"\"\"\n",
    "    Stochastics (Stochastic Oscillator)\n",
    "    \n",
    "    https://www.investopedia.com/terms/s/stochasticoscillator.asp\n",
    "    \n",
    "    \"\"\"\n",
    "    # %K=(C- H14)/(H14−L14)×100\n",
    "    \n",
    "     \n",
    "    for tick in tickers: \n",
    "        stock = stocks_df.loc[tick]\n",
    "        \n",
    "        a = 100 * (stock[price_type] - stock[price_type].rolling(n).min())\\\n",
    "                    /(stock[price_type].rolling(n).max() - stock[price_type].rolling(n).min())\n",
    "        \n",
    "        a.rename(None,inplace=True)\n",
    "        stocks_df.loc[tick,col_name] = pd.DataFrame(a,columns = [col_name])\n",
    "    "
   ]
  },
  {
   "cell_type": "markdown",
   "metadata": {},
   "source": [
    "## 12. Typical Price"
   ]
  },
  {
   "cell_type": "code",
   "execution_count": 13,
   "metadata": {},
   "outputs": [],
   "source": [
    "def typical_price(col_name= 'typical_price'):\n",
    "    \"\"\"\n",
    "    Typical Price\n",
    "    \n",
    "    https://en.wikipedia.org/wiki/Typical_price\n",
    "    \n",
    "    \"\"\"    \n",
    "    # H+L+C/3\n",
    "    for tick in tickers:\n",
    "        stock = stocks_df.loc[tick]\n",
    "        a = (stock['high']+stock['low']+stock['close'])/3     \n",
    "        a.rename(None,inplace=True)\n",
    "        stocks_df.loc[tick,col_name] = pd.DataFrame(a,columns = [col_name])\n",
    "        "
   ]
  },
  {
   "cell_type": "markdown",
   "metadata": {},
   "source": [
    "# Import Data"
   ]
  },
  {
   "cell_type": "code",
   "execution_count": 14,
   "metadata": {},
   "outputs": [],
   "source": [
    "dirname = 'sandp500'\n",
    "csv_file = 'all_stocks_5yr.csv'\n",
    "filename = Path(dirname, csv_file)\n",
    "stocks_df = pd.read_csv(filename)\n",
    "stocks_df['date'] = pd.to_datetime(stocks_df['date'],format='%m/%d/%Y')\n",
    "stocks_df.set_index(['Name','date'],inplace = True) # contains all stocks time series data\n",
    "stocks_df.head()\n",
    "imported_data = stocks_df"
   ]
  },
  {
   "cell_type": "markdown",
   "metadata": {},
   "source": [
    "# Calling Features"
   ]
  },
  {
   "cell_type": "code",
   "execution_count": 15,
   "metadata": {},
   "outputs": [
    {
     "name": "stdout",
     "output_type": "stream",
     "text": [
      "Time to run <function bollinger_bandwidth at 0x11c00d7a0> func = 3.08 sec\n",
      "Time to run <function coppock_curve at 0x11c00def0> func = 5.37 sec\n",
      "Time to run <function corr_coef at 0x11c00de60> func = 0.00 sec\n",
      "Time to run <function macd at 0x11c021560> func = 2.96 sec\n",
      "Time to run <function market_fac_ind at 0x11c021b00> func = 2.35 sec\n",
      "Time to run <function momentum_indic at 0x11c0300e0> func = 2.21 sec\n",
      "Time to run <function pvi at 0x11c00df80> func = 88.56 sec\n",
      "Time to run <function rvi at 0x11c021320> func = 4.42 sec\n",
      "Time to run <function st_dev at 0x11c00ddd0> func = 2.50 sec\n",
      "Time to run <function smi at 0x11c0303b0> func = 4.11 sec\n",
      "Time to run <function stochastics at 0x11c0309e0> func = 2.91 sec\n",
      "Time to run <function typical_price at 0x11c030f80> func = 2.34 sec\n"
     ]
    }
   ],
   "source": [
    "import time\n",
    "## Names of all feature functions\n",
    "feature_funcs = [bollinger_bandwidth,coppock_curve,corr_coef,macd,\\\n",
    "                 market_fac_ind,momentum_indic,pvi,rvi,st_dev,smi,stochastics,typical_price]\n",
    "\n",
    "## Stock Tickers. Ex: 'AAPL', 'MSFT' ...\n",
    "tickers = stocks_df.index.get_level_values(0).unique().tolist() # len(tickers) == 505\n",
    "\n",
    "for func in feature_funcs:\n",
    "    start_t = time.perf_counter()\n",
    "    func()\n",
    "    end_t = time.perf_counter()\n",
    "    print('Time to run {0} func = {1:.2f} sec'.format(str(func),end_t-start_t))\n",
    "\n",
    "    \"\"\"Note:\n",
    "    1. Corr_coeff does nothing here\n",
    "    2. pvi is slow, others are pretty quick\n",
    "    3. It may take ~2.5 min to run all functions\n",
    "    4. There are 11 feature columns in addition to the original 5 data columns\"\"\" "
   ]
  },
  {
   "cell_type": "code",
   "execution_count": 16,
   "metadata": {
    "scrolled": true
   },
   "outputs": [
    {
     "name": "stdout",
     "output_type": "stream",
     "text": [
      "                  open   high    low  close    volume  bollinger_bandwidth  \\\n",
      "Name date                                                                    \n",
      "AAL  2013-02-08  15.07  15.12  14.63  14.75   8407500                  NaN   \n",
      "     2013-02-11  14.89  15.01  14.26  14.46   8882000                  NaN   \n",
      "     2013-02-12  14.45  14.51  14.10  14.27   8126000                  NaN   \n",
      "     2013-02-13  14.30  14.94  14.25  14.66  10259500                  NaN   \n",
      "     2013-02-14  14.94  14.96  13.16  13.99  31879900                  NaN   \n",
      "\n",
      "                 coppock_curve     macd  market_fac_ind  momentum_indic  ...  \\\n",
      "Name date                                                                ...   \n",
      "AAL  2013-02-08            NaN  0.00000    5.828130e-08             NaN  ...   \n",
      "     2013-02-11            NaN -0.00289    8.444044e-08             NaN  ...   \n",
      "     2013-02-12            NaN -0.00624    5.045533e-08             NaN  ...   \n",
      "     2013-02-13            NaN  0.00311    6.725474e-08             NaN  ...   \n",
      "     2013-02-14            NaN -0.01232    5.646191e-08             NaN  ...   \n",
      "\n",
      "                 typical_price  Accum_Distri  Will_R_Form  Weighted_Close  \\\n",
      "Name date                                                                   \n",
      "AAL  2013-02-08      14.833333           NaN          NaN         14.8125   \n",
      "     2013-02-11      14.576667           NaN          NaN         14.5475   \n",
      "     2013-02-12      14.293333           NaN          NaN         14.2875   \n",
      "     2013-02-13      14.616667           NaN          NaN         14.6275   \n",
      "     2013-02-14      14.036667           NaN          NaN         14.0250   \n",
      "\n",
      "                 GAPO  On_Bal_Vol  RSI  Donchian_Width  True_Range  Aaron_Osc  \n",
      "Name date                                                                      \n",
      "AAL  2013-02-08   NaN         NaN  NaN             NaN        0.49        NaN  \n",
      "     2013-02-11   NaN         NaN  NaN             NaN        0.75        NaN  \n",
      "     2013-02-12   NaN         NaN  NaN             NaN        0.41        NaN  \n",
      "     2013-02-13   NaN         NaN  NaN             NaN        0.69        NaN  \n",
      "     2013-02-14   NaN         NaN  NaN             NaN        1.80        NaN  \n",
      "\n",
      "[5 rows x 25 columns]\n"
     ]
    }
   ],
   "source": [
    "\"\"\" Adding more features from another IPYNB file\"\"\"\n",
    "\n",
    "more_features = pd.read_csv('Akhilesh_Feature_Generation.csv') # run project_AS.ipynb\n",
    "more_features['date'] = pd.to_datetime(more_features['date'],format='%Y/%m/%d')\n",
    "more_features.set_index(['Name','date'],inplace = True)\n",
    "all_features_df = pd.concat([stocks_df,more_features.iloc[:,5:]], axis = 1)\n",
    "print(all_features_df.head())\n",
    "all_features_df.to_csv('All_features_df.csv')"
   ]
  }
 ],
 "metadata": {
  "kernelspec": {
   "display_name": "Python 3",
   "language": "python",
   "name": "python3"
  },
  "language_info": {
   "codemirror_mode": {
    "name": "ipython",
    "version": 3
   },
   "file_extension": ".py",
   "mimetype": "text/x-python",
   "name": "python",
   "nbconvert_exporter": "python",
   "pygments_lexer": "ipython3",
   "version": "3.7.4"
  }
 },
 "nbformat": 4,
 "nbformat_minor": 2
}
