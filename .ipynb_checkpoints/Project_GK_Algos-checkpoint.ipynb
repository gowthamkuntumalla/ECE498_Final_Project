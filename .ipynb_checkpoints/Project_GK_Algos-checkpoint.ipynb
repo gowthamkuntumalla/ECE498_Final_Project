{
 "cells": [
  {
   "cell_type": "markdown",
   "metadata": {},
   "source": [
    "# Cleaning Data"
   ]
  },
  {
   "cell_type": "code",
   "execution_count": null,
   "metadata": {},
   "outputs": [],
   "source": [
    "\"\"\"Import Data\"\"\"\n",
    "import pandas as pd\n",
    "import numpy as np\n",
    "import matplotlib.pyplot as plt\n",
    "\n",
    "all_features_df = pd.read_csv('All_features_df.csv')\n",
    "tickers = all_features_df.Name.unique()\n",
    "all_features_df['date'] = pd.to_datetime(all_features_df['date'],format='%Y-%m-%d')\n",
    "all_features_df.set_index(['Name','date'],inplace = True)\n",
    "\n"
   ]
  },
  {
   "cell_type": "code",
   "execution_count": null,
   "metadata": {},
   "outputs": [],
   "source": [
    "\"\"\"Removing companies where S&P modifications happened in the 5 year period. \n",
    "AAPL was in the index all those years.\"\"\"\n",
    "close = all_features_df.dropna()\n",
    "n_days = len(all_features_df.dropna().loc['AAPL','close'])# ~ 1235 for 5 years. It changes based on num NULL values in generated features\n",
    "tot = 0\n",
    "ls = []\n",
    "for x in tickers:\n",
    "    if len(close.loc[x,'close']) < n_days: # ~ 1200 days in 5 years. Some d\n",
    "        tot+=1\n",
    "#         print(x)\n",
    "    else:\n",
    "        ls.append(x)\n",
    "print('there are a total of %d stocks with missing data \\\n",
    "for partial period (total = %d AAPL)' %(tot,n_days)) # S&P 500 modifications\n",
    "tickers = ls\n",
    "features_df = all_features_df.dropna().loc[tickers,:]"
   ]
  },
  {
   "cell_type": "markdown",
   "metadata": {},
   "source": [
    "# Predictive Modelling (in progess)\n"
   ]
  },
  {
   "cell_type": "markdown",
   "metadata": {},
   "source": [
    "**Exploration:** <br>\n",
    "Data Visualization: t-SNE <br>\n",
    "Data shortening: PCA <br>\n",
    "Unsupervised Clustering: Hierarchical Clustering, KMeans, Ward HC, Spectral Clustering, GMMs<br>\n",
    "Supervised Classification: Deep Learning<br>\n"
   ]
  },
  {
   "cell_type": "markdown",
   "metadata": {},
   "source": [
    "# Initial Visualization:"
   ]
  },
  {
   "cell_type": "markdown",
   "metadata": {},
   "source": [
    "## 0.1 t-SNE (very slow- halted)"
   ]
  },
  {
   "cell_type": "code",
   "execution_count": null,
   "metadata": {},
   "outputs": [],
   "source": [
    "# from sklearn.manifold import TSNE\n",
    "# tsne = TSNE(learning_rate = 1000,n_components=2)\n",
    "# tsne_features = tsne.fit_transform(stocks_df)\n",
    "\n",
    "# xs = tsne_features[:,0]\n",
    "# ys = tsne_features[:,1]\n",
    "# plt.scatter(xs,ys)\n",
    "# plt.show()"
   ]
  },
  {
   "cell_type": "markdown",
   "metadata": {},
   "source": [
    "# Extracting Principal Components"
   ]
  },
  {
   "cell_type": "markdown",
   "metadata": {},
   "source": [
    "## 1.1 PCA"
   ]
  },
  {
   "cell_type": "code",
   "execution_count": null,
   "metadata": {},
   "outputs": [],
   "source": [
    "from sklearn.decomposition import PCA"
   ]
  },
  {
   "cell_type": "markdown",
   "metadata": {},
   "source": [
    "# Unsupervised Clustering"
   ]
  },
  {
   "cell_type": "markdown",
   "metadata": {},
   "source": [
    "## 2.1 Hierarchical Clustering"
   ]
  },
  {
   "cell_type": "markdown",
   "metadata": {},
   "source": [
    "Survey of Time Series Clustering Algos: http://citeseerx.ist.psu.edu/viewdoc/download?doi=10.1.1.115.6594&rep=rep1&type=pdf\n",
    "\n"
   ]
  },
  {
   "cell_type": "code",
   "execution_count": null,
   "metadata": {},
   "outputs": [],
   "source": [
    "from scipy.cluster.hierarchy import linkage, dendrogram\n",
    "from sklearn.preprocessing import normalize\n",
    "\n",
    "# Using close price as a specific feature.\n",
    "close = features_df.close\n",
    "# np.shape(close_prices.values)\n",
    "close_prices = []\n",
    "for x in tickers:\n",
    "    close_prices.append(close[x].values)\n",
    "print(\"Shape of close price matrix = \",np.shape(close_prices))\n",
    "norm_close_prices = normalize(close_prices)\n",
    "mergings_complete = linkage(norm_close_prices, method='complete')\n",
    "mergings_single = linkage(norm_close_prices, method='single')\n",
    "\n",
    "# Plot the dendrogram, using varieties as labels\n",
    "plt.figure(figsize = (20,16))\n",
    "close_hierarchy_complete = dendrogram(mergings_complete,\n",
    "           labels=tickers,\n",
    "           leaf_rotation=90,\n",
    "           leaf_font_size=6,\n",
    ")\n",
    "plt.ylabel('Level')\n",
    "plt.xlabel('Ticker')\n",
    "plt.title('Complete Hierarchical Clustering')\n",
    "plt.savefig('Results/Clustering/Hierarchical_clustering_complete.jpg', dpi = 150)\n",
    "plt.show()\n",
    "\n",
    "\n",
    "plt.figure(figsize = (20,16))\n",
    "close_hierarchy_single = dendrogram(mergings_single,\n",
    "           labels=tickers,\n",
    "           leaf_rotation=90,\n",
    "           leaf_font_size=6,\n",
    ")\n",
    "plt.ylabel('Level')\n",
    "plt.xlabel('Ticker')\n",
    "plt.title('Single Hierarchical Clustering')\n",
    "plt.savefig('Results/Clustering/Hierarchical_clustering_single.jpg', dpi = 150)\n",
    "plt.show()\n",
    "\n",
    "\n",
    "print('Verify the accuracy of the single link algo by looking at the S&P 500 index')\n",
    "ticker_order =close_hierarchy_single['ivl']\n",
    "print('Companies in Order:\\n', ticker_order)"
   ]
  },
  {
   "cell_type": "markdown",
   "metadata": {},
   "source": [
    "## 2.2 KMeans"
   ]
  },
  {
   "cell_type": "code",
   "execution_count": null,
   "metadata": {},
   "outputs": [],
   "source": [
    "# from sklearn.preprocessing import Normalizer, StandardScaler\n",
    "# from sklearn.cluster import KMeans\n",
    "# from sklearn.pipeline import Pipeline\n",
    "\n",
    "\n",
    "# #n_clusters = elbow of KMeans.interia_ plot n),  industries ~ 11\n",
    "# stocks_df.dropna(inplace = True)\n",
    " \n",
    "# kmeans_pipeline = Pipeline(steps = [('nrml',Normalizer()),('clf',KMeans(n_clusters = 11))]) #('norm', Normalizer())\n",
    "# kmeans_pipeline.fit(stocks_df)\n",
    "# labels = kmeans_pipeline.predict(stocks_df)\n",
    "# stocks_df.describe()\n",
    "# plt.plot(labels)\n",
    "# plt.show()\n",
    "# print(labels)\n",
    "\n",
    "# # Cross Tabulation to see effectiveness of split\n",
    "# df_res = pd.DataFrame({'labels': labels,'companies': stocks_df.index})\n",
    "# res = pd.crosstab(df_res['labels'], df_res['companies'])\n",
    "# print(res)\n",
    "\n",
    "# # Another trial\n",
    "# # df = stored_df.reset_index().pivot(index = 'date', columns='Name')\n",
    "# # df.columns = df.columns.swaplevel(0, 1)\n",
    "# # df.sort_index(axis=1, level=0, inplace=True)\n",
    "# # df"
   ]
  },
  {
   "cell_type": "markdown",
   "metadata": {},
   "source": [
    "## 2.3 Dynamic Time Warping (DTW)"
   ]
  },
  {
   "cell_type": "markdown",
   "metadata": {},
   "source": [
    "Used instead of K-Means as a way to cluster time series data.\n",
    "https://www.cs.ucr.edu/~eamonn/time_series_data_2018/"
   ]
  },
  {
   "cell_type": "markdown",
   "metadata": {},
   "source": [
    "# Supervised Clustering"
   ]
  },
  {
   "cell_type": "markdown",
   "metadata": {},
   "source": [
    "Based on partial target data from https://en.wikipedia.org/wiki/List_of_S%26P_500_companies"
   ]
  },
  {
   "cell_type": "markdown",
   "metadata": {},
   "source": [
    "## 3. Deep Learning"
   ]
  },
  {
   "cell_type": "code",
   "execution_count": null,
   "metadata": {},
   "outputs": [],
   "source": []
  }
 ],
 "metadata": {
  "kernelspec": {
   "display_name": "Python 3",
   "language": "python",
   "name": "python3"
  },
  "language_info": {
   "codemirror_mode": {
    "name": "ipython",
    "version": 3
   },
   "file_extension": ".py",
   "mimetype": "text/x-python",
   "name": "python",
   "nbconvert_exporter": "python",
   "pygments_lexer": "ipython3",
   "version": "3.7.4"
  }
 },
 "nbformat": 4,
 "nbformat_minor": 2
}
