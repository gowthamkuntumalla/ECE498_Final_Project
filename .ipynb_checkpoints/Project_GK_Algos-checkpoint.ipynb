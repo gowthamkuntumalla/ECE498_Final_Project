{
 "cells": [
  {
   "cell_type": "code",
   "execution_count": null,
   "metadata": {},
   "outputs": [],
   "source": [
    "\"\"\"Import Data\"\"\"\n",
    "import pandas as pd\n",
    "import numpy as np\n",
    "\n",
    "all_features_df = pd.read_csv()"
   ]
  },
  {
   "cell_type": "markdown",
   "metadata": {},
   "source": [
    "# Predictive Modelling (in progess)\n"
   ]
  },
  {
   "cell_type": "markdown",
   "metadata": {},
   "source": [
    "**Exploration:** <br>\n",
    "Data Visualization: t-SNE <br>\n",
    "Data shortening: PCA <br>\n",
    "Unsupervised Clustering: Heirarchical Clustering, KMeans, DTW, Spectral Clustering<br>\n",
    "Supervised Classification: Deep Learning<br>\n"
   ]
  },
  {
   "cell_type": "markdown",
   "metadata": {},
   "source": [
    "## 0.1 Visulization: t-SNE (very slow- halted)"
   ]
  },
  {
   "cell_type": "code",
   "execution_count": 3,
   "metadata": {},
   "outputs": [],
   "source": [
    "# from sklearn.manifold import TSNE\n",
    "# tsne = TSNE(learning_rate = 1000,n_components=2) # change learning rate from 50 to 200. good --> not all are bunched together\n",
    "## 0.1 Visulization: t-SNE (very slow- halted)\n",
    "# tsne_features = tsne.fit_transform(stocks_df)\n",
    "\n",
    "# xs = tsne_features[:,0]\n",
    "# ys = tsne_features[:,1]\n",
    "# plt.scatter(xs,ys)\n",
    "# plt.show()"
   ]
  },
  {
   "cell_type": "markdown",
   "metadata": {},
   "source": [
    "## 1.1 Hierarchical Clustering"
   ]
  },
  {
   "cell_type": "code",
   "execution_count": null,
   "metadata": {},
   "outputs": [],
   "source": [
    "from scipy.cluster.hierarchy import linkage, dendrogram\n",
    "from sklearn.preprocessing import normalize\n",
    "mergings = linkage(samples, method='complete')\n",
    "\n",
    "# Plot the dendrogram, using varieties as labels\n",
    "dendrogram(mergings,\n",
    "           labels=varieties,\n",
    "           leaf_rotation=90,\n",
    "           leaf_font_size=6,\n",
    ")\n",
    "plt.show()"
   ]
  }
 ],
 "metadata": {
  "kernelspec": {
   "display_name": "Python 3",
   "language": "python",
   "name": "python3"
  },
  "language_info": {
   "codemirror_mode": {
    "name": "ipython",
    "version": 3
   },
   "file_extension": ".py",
   "mimetype": "text/x-python",
   "name": "python",
   "nbconvert_exporter": "python",
   "pygments_lexer": "ipython3",
   "version": "3.7.4"
  }
 },
 "nbformat": 4,
 "nbformat_minor": 2
}
