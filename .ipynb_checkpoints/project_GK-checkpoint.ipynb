{
 "cells": [
  {
   "cell_type": "code",
   "execution_count": 1,
   "metadata": {},
   "outputs": [],
   "source": [
    "\"\"\"\n",
    "author: gowthamkuntumalla\n",
    "\n",
    "Title: Quantitative Analysis of Stock Prices for Similarity Grouping using Technical Indicator\n",
    "\n",
    "# Quantitative Analysis: https://www.investopedia.com/terms/q/quantitativeanalysis.asp\n",
    "# Technical Indicator: https://www.investopedia.com/terms/t/technicalindicator.asp\n",
    "\n",
    "Statistical Learning Techniques are employed for clustering and such.\n",
    "\"\"\"\n",
    "\n",
    "import pandas as pd\n",
    "import numpy as np\n",
    "idx = pd.IndexSlice\n",
    "from pathlib import Path\n",
    "\n",
    "#plotting\n",
    "import matplotlib.pyplot as plt"
   ]
  },
  {
   "cell_type": "markdown",
   "metadata": {},
   "source": [
    "# Features"
   ]
  },
  {
   "cell_type": "markdown",
   "metadata": {},
   "source": [
    "There are two basic types of technical indicators:\n",
    "\n",
    "**Overlays**: Technical indicators that use the same scale as prices are plotted over the top of the prices on a stock chart. Examples include moving averages and Bollinger Bands. <br>\n",
    "**Oscillators**: Technical indicators that oscillate between a local minimum and maximum are plotted above or below a price chart. Examples include the stochastic oscillator, MACD or RSI."
   ]
  },
  {
   "cell_type": "markdown",
   "metadata": {},
   "source": [
    "## 1. Bollinger Bandwidth"
   ]
  },
  {
   "cell_type": "code",
   "execution_count": 2,
   "metadata": {},
   "outputs": [],
   "source": [
    "def bollinger_bandwidth(m = 2, n = 20,col_name = 'bollinger_bandwidth'):\n",
    "    \"\"\"  \n",
    "    Bollinger Bandwidth \n",
    "    \n",
    "    https://www.investopedia.com/terms/b/bollingerbands.asp\n",
    "    \n",
    "    \"\"\"\n",
    "    # Bollinger Bandwidth = ((Upper Band - Lower Band) / Middle Band) * 100 \n",
    "    # m = num of standard devs (typically 2)\n",
    "    # n = No. days in smoothening period (typically 20)\n",
    "    \n",
    "    \n",
    "    def MA(tp,n):\n",
    "        \"\"\"Moving Average\"\"\"\n",
    "        return tp.rolling(n).mean()\n",
    "    \n",
    "    def TP(stock):\n",
    "        \"\"\"Typical Price\"\"\"\n",
    "        return (stock['high']+stock['low']+stock['close'])/3 \n",
    "    \n",
    "    def stdev(tp,n):\n",
    "        return tp.rolling(n).std()\n",
    "        \n",
    "    for tick in tickers: \n",
    "        stock = stocks_df.loc[tick]\n",
    "        stock_tp = TP(stock)\n",
    "        middle_band = MA(stock_tp,n) # Middle Bollinger Band\n",
    "        a = 2*m*stdev(stock_tp,n)/ middle_band \n",
    "        a.rename(None,inplace=True)\n",
    "        stocks_df.loc[tick,col_name] = pd.DataFrame(a,columns = [col_name])"
   ]
  },
  {
   "cell_type": "markdown",
   "metadata": {},
   "source": [
    "## 2. Coppock Curve"
   ]
  },
  {
   "cell_type": "code",
   "execution_count": 3,
   "metadata": {},
   "outputs": [],
   "source": [
    "def coppock_curve(m = 10, n1= 14, n2 = 11, price_type = 'close',col_name = 'coppock_curve'):    \n",
    "    \"\"\" \n",
    "    Coppock Curve\n",
    "    \n",
    "    https://www.investopedia.com/terms/c/coppockcurve.asp\n",
    "    \n",
    "    Using default price columns as 'close'\n",
    "    \"\"\"\n",
    "    # 10-period WMA of (14-period RoC + 11-period RoC)\n",
    "    # ROC = [(Close - Close n periods ago) / (Close n periods ago)] * 100 \n",
    "    \n",
    "    def RoC(stock_price,n): \n",
    "        \"\"\"Rate of change\"\"\"\n",
    "        return 100*stock[price_type].pct_change(periods = n)\n",
    "        \n",
    "    \n",
    "    def WMA(m,roc_n1,roc_n2):\n",
    "        \"\"\"Weighted Moving Average\"\"\"  \n",
    "        weights = np.arange(1,m+1) #this creates an array with integers 1 to 10 included\n",
    "        return (roc_n1 + roc_n2).rolling(m).apply(lambda prices: np.dot(prices, weights)/weights.sum(), raw=True)\n",
    "    \n",
    "    for tick in tickers: \n",
    "        stock = stocks_df.loc[tick]\n",
    "        \n",
    "        roc_n1 = RoC(stock,n1)\n",
    "        roc_n2 = RoC(stock,n2)\n",
    "        \n",
    "        a = np.round(WMA(m,roc_n1,roc_n2),decimals = 3)/1.0\n",
    "        a.rename(None,inplace=True)\n",
    "        stocks_df.loc[tick,col_name] = pd.DataFrame(a,columns = [col_name])\n",
    "        \n",
    "    "
   ]
  },
  {
   "cell_type": "markdown",
   "metadata": {},
   "source": [
    "## 3. Correlation Coefficient"
   ]
  },
  {
   "cell_type": "code",
   "execution_count": 4,
   "metadata": {},
   "outputs": [],
   "source": [
    "def corr_coef():\n",
    "    \"\"\"\n",
    "    Correlation Coefficient\n",
    "    \n",
    "    \"\"\"\n",
    "    \n",
    "    pass"
   ]
  },
  {
   "cell_type": "markdown",
   "metadata": {},
   "source": [
    "## 4. MACD"
   ]
  },
  {
   "cell_type": "code",
   "execution_count": 5,
   "metadata": {},
   "outputs": [],
   "source": [
    "def macd(nfast = 12 , nslow =26 ,m = 9,price_type = 'close',col_name = 'macd'):\n",
    "    \"\"\"\n",
    "    Moving Average Convergence Divergence\n",
    "    \n",
    "    https://www.investopedia.com/terms/m/macd.asp\n",
    "    \n",
    "    Note: difference between macd and signal is stored for convenience\n",
    "    \"\"\"\n",
    "    # macd = 12-Period EMA − 26-Period EMA\n",
    "    # signal = 9 period ema of macd\n",
    "    \n",
    "    for tick in tickers: \n",
    "        stock = stocks_df.loc[tick]\n",
    "        \n",
    "        macd = stock[price_type].ewm(span = nfast).mean()-stock[price_type].ewm(span = nslow).mean()\n",
    "        signal = macd.ewm(span = m).mean()\n",
    "        a = np.round(macd - signal,5)\n",
    "        a.rename(None,inplace=True)\n",
    "        stocks_df.loc[tick,col_name] = pd.DataFrame(a,columns = [col_name])\n",
    "        "
   ]
  },
  {
   "cell_type": "markdown",
   "metadata": {},
   "source": [
    "## 5. Market Facilitation Index"
   ]
  },
  {
   "cell_type": "code",
   "execution_count": 6,
   "metadata": {},
   "outputs": [],
   "source": [
    "def market_fac_ind(col_name = 'market_fac_ind'):\n",
    "    \"\"\"\n",
    "    Market Facilitation Index\n",
    "    \n",
    "    https://en.wikipedia.org/wiki/Market_facilitation_index\n",
    "    https://www.tradingview.com/script/trUemla9-Market-Facilitation-Index-MFI/\n",
    "    \n",
    "    Use the indicator to see if the market is trending\n",
    "    \"\"\"\n",
    "    # (High - Low) / Volume\n",
    "    for tick in tickers: \n",
    "        stock = stocks_df.loc[tick]\n",
    "        a = (stock['high'] - stock['low'])/stock['volume']\n",
    "        a.rename(None,inplace=True)\n",
    "        stocks_df.loc[tick,col_name] = pd.DataFrame(a,columns = [col_name])\n",
    "        \n",
    "    \n",
    "    "
   ]
  },
  {
   "cell_type": "markdown",
   "metadata": {},
   "source": [
    "## 6. Momentum Indicator"
   ]
  },
  {
   "cell_type": "code",
   "execution_count": 7,
   "metadata": {},
   "outputs": [],
   "source": [
    "def momentum_indic(n = 14,col_name = 'momentum_indic', price_type = 'close'):\n",
    "    \"\"\"\n",
    "    Momentum Indicator\n",
    "    \n",
    "    https://commodity.com/technical-analysis/momentum/\n",
    "    \n",
    "    \"\"\"\n",
    "    # (Price today - Price n periods ago) x 100\n",
    "    \n",
    "    for tick in tickers: \n",
    "        stock = stocks_df.loc[tick]\n",
    "        \n",
    "        a = stock[price_type] - stock[price_type].shift(periods = n)\n",
    "        \n",
    "        a.rename(None,inplace=True)\n",
    "        stocks_df.loc[tick,col_name] = pd.DataFrame(a,columns = [col_name])\n",
    "        "
   ]
  },
  {
   "cell_type": "markdown",
   "metadata": {},
   "source": [
    "## 7. Positive Volume Index"
   ]
  },
  {
   "cell_type": "code",
   "execution_count": 8,
   "metadata": {},
   "outputs": [],
   "source": [
    "def pvi(col_name = 'pvi', price_type = 'close', ppvi = 100):\n",
    "    \"\"\"\n",
    "    Positive Volume Index\n",
    "    \n",
    "    https://www.investopedia.com/terms/p/pvi.asp\n",
    "    \n",
    "    Implementation is slow. It may be improved!\n",
    "    \"\"\"\n",
    "    # pvi = ppvi + (tcp-ycp)/ycp * ppvi\n",
    "    # if tvol < yvol :then pvi = ppvi\n",
    "    # if no starting value :then ppvi  = 100 # starting value arbritrary\n",
    "    \n",
    "    def func(stock,ppvi):\n",
    "        a = pd.Series(stock.index)       \n",
    "        a.iloc[0] = ppvi        \n",
    "        for i in range(1, len(a)):            \n",
    "            if stock['volume'].iloc[i] > stock['volume'].iloc[i-1]:\n",
    "                pvi = ppvi * (1+ (stock[price_type].iloc[i]-stock[price_type].iloc[i-1])/stock[price_type].iloc[i-1])\n",
    "                a.iloc[i] = pvi\n",
    "                ppvi = pvi\n",
    "            else:\n",
    "                a.iloc[i] = ppvi\n",
    "        return a\n",
    "    \n",
    "    for tick in tickers: \n",
    "        stock = stocks_df.loc[tick]\n",
    "        a = func(stock,ppvi)\n",
    "        a.rename(None,inplace=True)\n",
    "        stocks_df.loc[tick,col_name] = pd.DataFrame(a,columns = [col_name])\n",
    "        \n",
    "    stocks_df[col_name] = stocks_df[col_name].astype('float64')\n"
   ]
  },
  {
   "cell_type": "markdown",
   "metadata": {},
   "source": [
    "## 8. Relative Volatility Index"
   ]
  },
  {
   "cell_type": "code",
   "execution_count": 9,
   "metadata": {},
   "outputs": [],
   "source": [
    "def rvi(n = 10, m = 14,col_name = 'rvi'):\n",
    "    \"\"\"\n",
    "    Relative Volatility Index\n",
    "    \n",
    "    https://user42.tuxfamily.org/chart/manual/Relative-Volatility-Index.html\n",
    "    \n",
    "    \"\"\"\n",
    "    # n = stdev periods\n",
    "    # m = EMA periods\n",
    "    \n",
    "    def func(stock,n,m,price_type):       \n",
    "        stdev = stock[price_type].rolling(n).std()\n",
    "        mask = stock[price_type] > stock[price_type].shift(periods = 1)\n",
    "        \n",
    "        numer = stdev.where(mask,other = 0).ewm(span = m, min_periods=m,adjust=False).mean()\n",
    "        denom = stdev.ewm(span = m, min_periods=m,adjust=False).mean()\n",
    "        \n",
    "        rviOrig =   100 * (numer)/(denom)        \n",
    "        return rviOrig\n",
    "        \n",
    "    for tick in tickers: \n",
    "        stock = stocks_df.loc[tick]\n",
    "        \n",
    "        a = np.round(0.5*(func(stock,n,m,'high') + func(stock,n,m,'low')),3)\n",
    "\n",
    "        a.rename(None,inplace=True)\n",
    "        stocks_df.loc[tick,col_name] = pd.DataFrame(a,columns = [col_name])\n"
   ]
  },
  {
   "cell_type": "markdown",
   "metadata": {},
   "source": [
    "## 9. Standard Deviation"
   ]
  },
  {
   "cell_type": "code",
   "execution_count": 10,
   "metadata": {},
   "outputs": [],
   "source": [
    "def st_dev(n = 10,col_name = 'st_dev'):\n",
    "    \"\"\"\n",
    "    Standard Deviation\n",
    "    \n",
    "    \"\"\"\n",
    "    # n = no of days to calculate standard deviation\n",
    "\n",
    "    def TP(stock):\n",
    "        \"\"\"Typical Price\"\"\"\n",
    "        return (stock['high']+stock['low']+stock['close'])/3 \n",
    "    \n",
    "    def stdev(tp,n):\n",
    "        \"\"\"rolling standard deviation\"\"\"\n",
    "        return tp.rolling(n).std()\n",
    "    \n",
    "    for tick in tickers: \n",
    "        stock = stocks_df.loc[tick]\n",
    "        stock_tp = TP(stock)\n",
    "        a = stdev(stock_tp,n)\n",
    "        a.rename(None,inplace=True)\n",
    "        stocks_df.loc[tick,col_name] = pd.DataFrame(a,columns = [col_name])\n",
    "    "
   ]
  },
  {
   "cell_type": "markdown",
   "metadata": {},
   "source": [
    "## 10. Stochastic Momentum Index"
   ]
  },
  {
   "cell_type": "code",
   "execution_count": 11,
   "metadata": {},
   "outputs": [],
   "source": [
    "def smi(col_name = 'smi',n = 14, m = 3):\n",
    "    \"\"\"\n",
    "    Stochastic Momentum Index\n",
    "    \n",
    "    https://www.fmlabs.com/reference/default.htm?url=SMI.htm\n",
    "    https://tradingqna.com/t/need-formula-for-stochastic-momentum-index-indicator/43201\n",
    "    \"\"\"\n",
    "    # n = period 1 for calculating centre\n",
    "    # m = period 2 for EMA\n",
    "    \n",
    "    def func(stock,n,m):\n",
    "        centre = 0.5 * (stock['high'].rolling(n).max() + stock['low'].rolling(n).min()) \n",
    "        H = stock['close'] - centre        \n",
    "        cm = H.ewm(span = m).mean().ewm(span = m).mean()\n",
    "        \n",
    "        HL = stock['high'].rolling(n).max() - stock['low'].rolling(n).min()\n",
    "        hl = HL.ewm(span = m).mean().ewm(span = m).mean()\n",
    "        \n",
    "        SMI = 100 * cm/(hl/2)\n",
    "        return SMI\n",
    "        \n",
    "    \n",
    "    for tick in tickers: \n",
    "        stock = stocks_df.loc[tick]\n",
    "        a = np.round(func(stock, n,m),3)\n",
    "        a.rename(None,inplace=True)\n",
    "        stocks_df.loc[tick,col_name] = pd.DataFrame(a,columns = [col_name])\n",
    "    \n"
   ]
  },
  {
   "cell_type": "markdown",
   "metadata": {},
   "source": [
    "## 11. Stochastics"
   ]
  },
  {
   "cell_type": "code",
   "execution_count": 12,
   "metadata": {},
   "outputs": [],
   "source": [
    "def stochastics(col_name = 'stochastics', n = 14,price_type = 'close'):\n",
    "    \"\"\"\n",
    "    Stochastics (Stochastic Oscillator)\n",
    "    \n",
    "    https://www.investopedia.com/terms/s/stochasticoscillator.asp\n",
    "    \n",
    "    \"\"\"\n",
    "    # %K=(C- H14)/(H14−L14)×100\n",
    "    \n",
    "     \n",
    "    for tick in tickers: \n",
    "        stock = stocks_df.loc[tick]\n",
    "        \n",
    "        a = 100 * (stock[price_type] - stock[price_type].rolling(n).min())\\\n",
    "                    /(stock[price_type].rolling(n).max() - stock[price_type].rolling(n).min())\n",
    "        \n",
    "        a.rename(None,inplace=True)\n",
    "        stocks_df.loc[tick,col_name] = pd.DataFrame(a,columns = [col_name])\n",
    "    "
   ]
  },
  {
   "cell_type": "markdown",
   "metadata": {},
   "source": [
    "## 12. Typical Price"
   ]
  },
  {
   "cell_type": "code",
   "execution_count": 13,
   "metadata": {},
   "outputs": [],
   "source": [
    "def typical_price(col_name= 'typical_price'):\n",
    "    \"\"\"\n",
    "    Typical Price\n",
    "    \n",
    "    https://en.wikipedia.org/wiki/Typical_price\n",
    "    \n",
    "    \"\"\"    \n",
    "    # H+L+C/3\n",
    "    for tick in tickers:\n",
    "        stock = stocks_df.loc[tick]\n",
    "        a = (stock['high']+stock['low']+stock['close'])/3     \n",
    "        a.rename(None,inplace=True)\n",
    "        stocks_df.loc[tick,col_name] = pd.DataFrame(a,columns = [col_name])\n",
    "        "
   ]
  },
  {
   "cell_type": "markdown",
   "metadata": {},
   "source": [
    "# Import Data"
   ]
  },
  {
   "cell_type": "code",
   "execution_count": 14,
   "metadata": {},
   "outputs": [
    {
     "data": {
      "text/html": [
       "<div>\n",
       "<style scoped>\n",
       "    .dataframe tbody tr th:only-of-type {\n",
       "        vertical-align: middle;\n",
       "    }\n",
       "\n",
       "    .dataframe tbody tr th {\n",
       "        vertical-align: top;\n",
       "    }\n",
       "\n",
       "    .dataframe thead th {\n",
       "        text-align: right;\n",
       "    }\n",
       "</style>\n",
       "<table border=\"1\" class=\"dataframe\">\n",
       "  <thead>\n",
       "    <tr style=\"text-align: right;\">\n",
       "      <th></th>\n",
       "      <th></th>\n",
       "      <th>open</th>\n",
       "      <th>high</th>\n",
       "      <th>low</th>\n",
       "      <th>close</th>\n",
       "      <th>volume</th>\n",
       "    </tr>\n",
       "    <tr>\n",
       "      <th>Name</th>\n",
       "      <th>date</th>\n",
       "      <th></th>\n",
       "      <th></th>\n",
       "      <th></th>\n",
       "      <th></th>\n",
       "      <th></th>\n",
       "    </tr>\n",
       "  </thead>\n",
       "  <tbody>\n",
       "    <tr>\n",
       "      <td rowspan=\"5\" valign=\"top\">AAL</td>\n",
       "      <td>2013-02-08</td>\n",
       "      <td>15.07</td>\n",
       "      <td>15.12</td>\n",
       "      <td>14.63</td>\n",
       "      <td>14.75</td>\n",
       "      <td>8407500</td>\n",
       "    </tr>\n",
       "    <tr>\n",
       "      <td>2013-02-11</td>\n",
       "      <td>14.89</td>\n",
       "      <td>15.01</td>\n",
       "      <td>14.26</td>\n",
       "      <td>14.46</td>\n",
       "      <td>8882000</td>\n",
       "    </tr>\n",
       "    <tr>\n",
       "      <td>2013-02-12</td>\n",
       "      <td>14.45</td>\n",
       "      <td>14.51</td>\n",
       "      <td>14.10</td>\n",
       "      <td>14.27</td>\n",
       "      <td>8126000</td>\n",
       "    </tr>\n",
       "    <tr>\n",
       "      <td>2013-02-13</td>\n",
       "      <td>14.30</td>\n",
       "      <td>14.94</td>\n",
       "      <td>14.25</td>\n",
       "      <td>14.66</td>\n",
       "      <td>10259500</td>\n",
       "    </tr>\n",
       "    <tr>\n",
       "      <td>2013-02-14</td>\n",
       "      <td>14.94</td>\n",
       "      <td>14.96</td>\n",
       "      <td>13.16</td>\n",
       "      <td>13.99</td>\n",
       "      <td>31879900</td>\n",
       "    </tr>\n",
       "  </tbody>\n",
       "</table>\n",
       "</div>"
      ],
      "text/plain": [
       "                  open   high    low  close    volume\n",
       "Name date                                            \n",
       "AAL  2013-02-08  15.07  15.12  14.63  14.75   8407500\n",
       "     2013-02-11  14.89  15.01  14.26  14.46   8882000\n",
       "     2013-02-12  14.45  14.51  14.10  14.27   8126000\n",
       "     2013-02-13  14.30  14.94  14.25  14.66  10259500\n",
       "     2013-02-14  14.94  14.96  13.16  13.99  31879900"
      ]
     },
     "execution_count": 14,
     "metadata": {},
     "output_type": "execute_result"
    }
   ],
   "source": [
    "dirname = 'sandp500'\n",
    "csv_file = 'all_stocks_5yr.csv'\n",
    "filename = Path(dirname, csv_file)\n",
    "stocks_df = pd.read_csv(filename)\n",
    "stocks_df['date'] = pd.to_datetime(stocks_df['date'],format='%m/%d/%Y')\n",
    "stocks_df.set_index(['Name','date'],inplace = True) # contains all stocks time series data\n",
    "stocks_df.head()"
   ]
  },
  {
   "cell_type": "markdown",
   "metadata": {},
   "source": [
    "# Calling Features"
   ]
  },
  {
   "cell_type": "code",
   "execution_count": 15,
   "metadata": {},
   "outputs": [],
   "source": [
    "## Names of all feature functions\n",
    "feature_funcs = [bollinger_bandwidth,coppock_curve,corr_coef,macd,\\\n",
    "                 market_fac_ind,momentum_indic,pvi,rvi,st_dev,smi,stochastics,typical_price]\n",
    "\n",
    "## Stock Tickers. Ex: 'AAPL', 'MSFT' ...\n",
    "tickers = stocks_df.index.get_level_values(0).unique().tolist() # len(tickers) == 505\n",
    "\n",
    "for func in feature_funcs:\n",
    "    func()\n",
    "\n",
    "    \"\"\"Note:\n",
    "    1. Corr_coeff does nothing here\n",
    "    2. pvi is slow\n",
    "    3. It may take 5 min to run all functions\n",
    "    4. There are 11 feature columns in addition to the original 5 data columns\"\"\" "
   ]
  },
  {
   "cell_type": "code",
   "execution_count": 16,
   "metadata": {},
   "outputs": [],
   "source": [
    "stored_df = stocks_df #backup"
   ]
  },
  {
   "cell_type": "markdown",
   "metadata": {},
   "source": [
    "# Prediction Modelling (in progess)"
   ]
  },
  {
   "cell_type": "markdown",
   "metadata": {},
   "source": [
    "## PCA"
   ]
  },
  {
   "cell_type": "code",
   "execution_count": null,
   "metadata": {},
   "outputs": [],
   "source": [
    "from sklearn.decomposition import PCA\n",
    "# linear transformation"
   ]
  },
  {
   "cell_type": "markdown",
   "metadata": {},
   "source": [
    "NMF (similar to PCA) Non negative Feature Factorization: Not useful here as it requires non - negative features."
   ]
  },
  {
   "cell_type": "markdown",
   "metadata": {},
   "source": [
    "## Pipeline: Standard Scaler + KMeans"
   ]
  },
  {
   "cell_type": "code",
   "execution_count": 17,
   "metadata": {},
   "outputs": [
    {
     "data": {
      "image/png": "[encoded data removed]",
      "text/plain": [
       "<Figure size 432x288 with 1 Axes>"
      ]
     },
     "metadata": {
      "needs_background": "light"
     },
     "output_type": "display_data"
    },
    {
     "name": "stdout",
     "output_type": "stream",
     "text": [
      "[2 2 2 ... 3 3 3]\n",
      "Empty DataFrame\n",
      "Columns: []\n",
      "Index: []\n"
     ]
    }
   ],
   "source": [
    "from sklearn.preprocessing import Normalizer, StandardScaler\n",
    "from sklearn.cluster import KMeans\n",
    "from sklearn.pipeline import Pipeline\n",
    "\n",
    "\n",
    "#n_clusters = elbow of KMeans.interia_ plot n),  industries ~ 11\n",
    "stocks_df.dropna(inplace = True)\n",
    " \n",
    "kmeans_pipeline = Pipeline(steps = [('stsc',StandardScaler()),('clf',KMeans(n_clusters = 11))]) #('norm', Normalizer())\n",
    "kmeans_pipeline.fit(stocks_df)\n",
    "labels = kmeans_pipeline.predict(stocks_df)\n",
    "stocks_df.describe()\n",
    "plt.plot(labels)\n",
    "plt.show()\n",
    "print(labels)\n",
    "\n",
    "# Cross Tabulation to see effectiveness of split\n",
    "df_res = pd.DataFrame({'labels': labels,'companies': stocks_df.index})\n",
    "res = pd.crosstab(df_res['labels'], df_res['companies'])\n",
    "print(res)\n",
    "\n",
    "# Another trial\n",
    "# df = stored_df.reset_index().pivot(index = 'date', columns='Name')\n",
    "# df.columns = df.columns.swaplevel(0, 1)\n",
    "# df.sort_index(axis=1, level=0, inplace=True)\n",
    "# df"
   ]
  },
  {
   "cell_type": "markdown",
   "metadata": {},
   "source": [
    "## Visulization: t-SNE (very slow- halted)"
   ]
  },
  {
   "cell_type": "code",
   "execution_count": 20,
   "metadata": {
    "scrolled": true
   },
   "outputs": [],
   "source": [
    "# from sklearn.manifold import TSNE\n",
    "# tsne = TSNE(learning_rate = 100) # change learning rate from 50 to 200. good --> not all are bunched together\n",
    "\n",
    "# tsne_features = tsne.fit_transform(stocks_df)\n",
    "\n",
    "# xs = tsne_features[:,0]\n",
    "# ys = tsne_features[:,1]\n",
    "# plt.scatter(xs,ys)\n",
    "# plt.show()"
   ]
  },
  {
   "cell_type": "code",
   "execution_count": null,
   "metadata": {},
   "outputs": [],
   "source": []
  }
 ],
 "metadata": {
  "kernelspec": {
   "display_name": "Python 3",
   "language": "python",
   "name": "python3"
  },
  "language_info": {
   "codemirror_mode": {
    "name": "ipython",
    "version": 3
   },
   "file_extension": ".py",
   "mimetype": "text/x-python",
   "name": "python",
   "nbconvert_exporter": "python",
   "pygments_lexer": "ipython3",
   "version": "3.7.4"
  }
 },
 "nbformat": 4,
 "nbformat_minor": 2
}
