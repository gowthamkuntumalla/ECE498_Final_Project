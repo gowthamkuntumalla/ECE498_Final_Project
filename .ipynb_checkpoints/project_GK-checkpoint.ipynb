{
 "cells": [
  {
   "cell_type": "code",
   "execution_count": 1,
   "metadata": {},
   "outputs": [],
   "source": [
    "\"\"\"gowthamkuntumalla\"\"\"\n",
    "\n",
    "import pandas as pd\n",
    "from pathlib import Path\n",
    "\n",
    "\n",
    "from bokeh.plotting import figure,show\n",
    "from bokeh.models.sources import ColumnDataSource\n",
    "from bokeh.models import HoverTool, DatetimeTickFormatter"
   ]
  },
  {
   "cell_type": "code",
   "execution_count": 2,
   "metadata": {},
   "outputs": [],
   "source": [
    "dirname = 'sandp500/individual_stocks_5yr'\n",
    "filename = 'AAPL_data'\n",
    "suffix = '.csv'\n",
    "\n",
    "filename = Path(dirname, filename).with_suffix(suffix)\n",
    "aapl_df = pd.read_csv(filename)\n",
    "aapl_df.date = pd.to_datetime(aapl_df.date,infer_datetime_format=True);"
   ]
  },
  {
   "cell_type": "code",
   "execution_count": 3,
   "metadata": {},
   "outputs": [],
   "source": [
    "plot = figure(x_axis_label = 'Time', y_axis_label = 'Price',x_axis_type = 'datetime',title = 'Closing Price of AAPL')\n",
    "aapl = ColumnDataSource(aapl_df)\n",
    "plot.circle('date','close',source = aapl)\n",
    "# plot.xaxis[0].formatter = DatetimeTickFormatter(days='%m/%d')\n",
    "plot.add_tools(HoverTool(tooltips= [(\"Dates\",\"@date\"), (\"Close Prices\",\"@close\")]))\n",
    "show(plot)"
   ]
  }
 ],
 "metadata": {
  "kernelspec": {
   "display_name": "Python 3",
   "language": "python",
   "name": "python3"
  },
  "language_info": {
   "codemirror_mode": {
    "name": "ipython",
    "version": 3
   },
   "file_extension": ".py",
   "mimetype": "text/x-python",
   "name": "python",
   "nbconvert_exporter": "python",
   "pygments_lexer": "ipython3",
   "version": "3.7.4"
  }
 },
 "nbformat": 4,
 "nbformat_minor": 2
}
